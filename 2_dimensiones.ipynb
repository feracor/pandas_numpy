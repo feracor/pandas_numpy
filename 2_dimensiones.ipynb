{
  "nbformat": 4,
  "nbformat_minor": 0,
  "metadata": {
    "colab": {
      "provenance": [],
      "authorship_tag": "ABX9TyPsGYi1g56Fmh0uF4Xo//ST",
      "include_colab_link": true
    },
    "kernelspec": {
      "name": "python3",
      "display_name": "Python 3"
    },
    "language_info": {
      "name": "python"
    }
  },
  "cells": [
    {
      "cell_type": "markdown",
      "metadata": {
        "id": "view-in-github",
        "colab_type": "text"
      },
      "source": [
        "<a href=\"https://colab.research.google.com/github/feracor/pandas_numpy/blob/main/2_dimensiones.ipynb\" target=\"_parent\"><img src=\"https://colab.research.google.com/assets/colab-badge.svg\" alt=\"Open In Colab\"/></a>"
      ]
    },
    {
      "cell_type": "markdown",
      "source": [
        "#Dimensiones"
      ],
      "metadata": {
        "id": "IPXaJ_7kfHT9"
      }
    },
    {
      "cell_type": "code",
      "execution_count": null,
      "metadata": {
        "id": "3QL1AlVwe_N3"
      },
      "outputs": [],
      "source": [
        "import numpy as np"
      ]
    },
    {
      "cell_type": "code",
      "source": [
        "scalar = np.array(12)\n",
        "print(scalar)\n",
        "scalar.ndim"
      ],
      "metadata": {
        "colab": {
          "base_uri": "https://localhost:8080/"
        },
        "id": "9U5BT52tfFnj",
        "outputId": "8c6c8663-f682-4af3-d531-ecacdfeaad49"
      },
      "execution_count": null,
      "outputs": [
        {
          "output_type": "stream",
          "name": "stdout",
          "text": [
            "12\n"
          ]
        },
        {
          "output_type": "execute_result",
          "data": {
            "text/plain": [
              "0"
            ]
          },
          "metadata": {},
          "execution_count": 2
        }
      ]
    },
    {
      "cell_type": "code",
      "source": [
        "vector = np.array([1, 2, 3, 4])\n",
        "print(vector)\n",
        "vector.ndim"
      ],
      "metadata": {
        "colab": {
          "base_uri": "https://localhost:8080/"
        },
        "id": "5SFVpFiIfXMQ",
        "outputId": "2e687452-e8ff-4048-c8b0-4f6e1e492990"
      },
      "execution_count": null,
      "outputs": [
        {
          "output_type": "stream",
          "name": "stdout",
          "text": [
            "[1 2 3 4]\n"
          ]
        },
        {
          "output_type": "execute_result",
          "data": {
            "text/plain": [
              "1"
            ]
          },
          "metadata": {},
          "execution_count": 3
        }
      ]
    },
    {
      "cell_type": "code",
      "source": [
        "matriz = np.array([[1, 2, 3],[4, 5, 6], [7, 8, 9]])\n",
        "print(matriz)\n",
        "matriz.ndim"
      ],
      "metadata": {
        "colab": {
          "base_uri": "https://localhost:8080/"
        },
        "id": "7d7pHLsWflHz",
        "outputId": "72d7e91d-458d-490e-eebd-9d1b2090915e"
      },
      "execution_count": null,
      "outputs": [
        {
          "output_type": "stream",
          "name": "stdout",
          "text": [
            "[[1 2 3]\n",
            " [4 5 6]\n",
            " [7 8 9]]\n"
          ]
        },
        {
          "output_type": "execute_result",
          "data": {
            "text/plain": [
              "2"
            ]
          },
          "metadata": {},
          "execution_count": 4
        }
      ]
    },
    {
      "cell_type": "code",
      "source": [
        "tensor = np.array([[[1, 2, 3],[4, 5, 6], [7, 8, 9]],[[10, 11, 12], [13, 14, 15], [16, 17, 18]]])\n",
        "print(tensor)\n",
        "tensor.ndim"
      ],
      "metadata": {
        "id": "9J7iB8H1f0th",
        "outputId": "8b85084f-4e28-48d4-80d2-3f1cced3b598",
        "colab": {
          "base_uri": "https://localhost:8080/"
        }
      },
      "execution_count": null,
      "outputs": [
        {
          "output_type": "stream",
          "name": "stdout",
          "text": [
            "[[[ 1  2  3]\n",
            "  [ 4  5  6]\n",
            "  [ 7  8  9]]\n",
            "\n",
            " [[10 11 12]\n",
            "  [13 14 15]\n",
            "  [16 17 18]]]\n"
          ]
        },
        {
          "output_type": "execute_result",
          "data": {
            "text/plain": [
              "3"
            ]
          },
          "metadata": {},
          "execution_count": 6
        }
      ]
    },
    {
      "cell_type": "code",
      "source": [
        "tensor4 = np.array([[[[1, 2, 3],[4, 5, 6], [7, 8, 9]],[[10, 11, 12], [13, 14, 15], [16, 17, 18]]],[[[1, 2, 3],[4, 5, 6], [7, 8, 9]],[[10, 11, 12], [13, 14, 15], [16, 17, 18]]]])\n",
        "print(tensor4)\n",
        "tensor4.ndim"
      ],
      "metadata": {
        "id": "rxzFIBCjhyLt",
        "outputId": "dce07820-d4b6-4a33-c996-c36ade5a1f49",
        "colab": {
          "base_uri": "https://localhost:8080/"
        }
      },
      "execution_count": null,
      "outputs": [
        {
          "output_type": "stream",
          "name": "stdout",
          "text": [
            "[[[[ 1  2  3]\n",
            "   [ 4  5  6]\n",
            "   [ 7  8  9]]\n",
            "\n",
            "  [[10 11 12]\n",
            "   [13 14 15]\n",
            "   [16 17 18]]]\n",
            "\n",
            "\n",
            " [[[ 1  2  3]\n",
            "   [ 4  5  6]\n",
            "   [ 7  8  9]]\n",
            "\n",
            "  [[10 11 12]\n",
            "   [13 14 15]\n",
            "   [16 17 18]]]]\n"
          ]
        },
        {
          "output_type": "execute_result",
          "data": {
            "text/plain": [
              "4"
            ]
          },
          "metadata": {},
          "execution_count": 7
        }
      ]
    },
    {
      "cell_type": "code",
      "source": [
        "#Agregar dimensiones\n",
        "vector = np.array([1, 2, 3, 4], ndmin = 10) # Crea un tensor con dimensiones específicas dentro del parámetro ndmin=\n",
        "print(vector)\n",
        "vector.ndim"
      ],
      "metadata": {
        "id": "Zotv_35liAYe",
        "outputId": "d1585223-d05b-4268-8aab-2db7e32bc9db",
        "colab": {
          "base_uri": "https://localhost:8080/"
        }
      },
      "execution_count": null,
      "outputs": [
        {
          "output_type": "stream",
          "name": "stdout",
          "text": [
            "[[[[[[[[[[1 2 3 4]]]]]]]]]]\n"
          ]
        },
        {
          "output_type": "execute_result",
          "data": {
            "text/plain": [
              "10"
            ]
          },
          "metadata": {},
          "execution_count": 8
        }
      ]
    },
    {
      "cell_type": "code",
      "source": [
        "expand = np.expand_dims(np.array([1, 2, 3]), axis=0) # Expande el array en axis=0, que es a nivel de filas. Se convierte de vector a matriz\n",
        "print(expand)\n",
        "print(expand.ndim)\n",
        "\n",
        "expand2 = np.expand_dims(np.array([1, 2, 3]), axis=1) # Expande el array en axis=1, que es a nivel de columnas. Se convierte de vector a matriz\n",
        "print(expand2)\n",
        "print(expand2.ndim)"
      ],
      "metadata": {
        "id": "5FmJnI7liger",
        "outputId": "2dfecd89-40a6-43d9-86d1-1ff5a4e37cd4",
        "colab": {
          "base_uri": "https://localhost:8080/"
        }
      },
      "execution_count": null,
      "outputs": [
        {
          "output_type": "stream",
          "name": "stdout",
          "text": [
            "[[1 2 3]]\n",
            "2\n",
            "[[1]\n",
            " [2]\n",
            " [3]]\n",
            "2\n"
          ]
        }
      ]
    },
    {
      "cell_type": "code",
      "source": [
        "#Reducir dimensiones\n",
        "vector = np.array([1, 2, 3, 4], ndmin = 10)\n",
        "print(vector, vector.ndim)\n",
        "\n",
        "vector_2 = np.squeeze(vector) # Médoto squeeze elimina las dimensiones que no se usan\n",
        "print(vector_2, vector_2.ndim)"
      ],
      "metadata": {
        "id": "Vc75aHnbjKsJ",
        "outputId": "5f6ca880-7a61-4fb2-b585-77f0d2db0988",
        "colab": {
          "base_uri": "https://localhost:8080/"
        }
      },
      "execution_count": null,
      "outputs": [
        {
          "output_type": "stream",
          "name": "stdout",
          "text": [
            "[[[[[[[[[[1 2 3 4]]]]]]]]]] 10\n",
            "[1 2 3 4] 1\n"
          ]
        }
      ]
    },
    {
      "cell_type": "code",
      "source": [
        "tensor = np.array([[1,2,3],[4,5,3],[6,7,8]], ndmin=5) # Crea tensor de 5 dimensiones\n",
        "print(tensor, tensor.ndim)\n",
        "tensor = np.squeeze(tensor) # Tensor se reduce a 3 dimensiones, que son las que se consideran útiles\n",
        "print(tensor, tensor.ndim)"
      ],
      "metadata": {
        "id": "XI9DAHU-k5tQ",
        "outputId": "61ecb47c-a264-4e60-9a37-046b88443b04",
        "colab": {
          "base_uri": "https://localhost:8080/"
        }
      },
      "execution_count": null,
      "outputs": [
        {
          "output_type": "stream",
          "name": "stdout",
          "text": [
            "[[[[[1 2 3]\n",
            "    [4 5 3]\n",
            "    [6 7 8]]]]] 5\n",
            "[[1 2 3]\n",
            " [4 5 3]\n",
            " [6 7 8]] 2\n"
          ]
        }
      ]
    },
    {
      "cell_type": "markdown",
      "source": [
        "#Creando arrays desde NumPy"
      ],
      "metadata": {
        "id": "DvcCVqmCmpNN"
      }
    },
    {
      "cell_type": "code",
      "source": [
        "a = np.arange(10) # Método que crea un arreglo dentro de un rango dado. Comienza desde 0 hasta el ingresado menos uno\n",
        "a"
      ],
      "metadata": {
        "id": "RL3SS_RWlz6a",
        "outputId": "3e6f2485-f2bf-4a7a-f325-f47a9aa38c72",
        "colab": {
          "base_uri": "https://localhost:8080/"
        }
      },
      "execution_count": null,
      "outputs": [
        {
          "output_type": "execute_result",
          "data": {
            "text/plain": [
              "array([0, 1, 2, 3, 4, 5, 6, 7, 8, 9])"
            ]
          },
          "metadata": {},
          "execution_count": 32
        }
      ]
    },
    {
      "cell_type": "code",
      "source": [
        "b = np.arange(3, 10) # Crea un arreglo dentro de un rango dado hasta el límite superior menos uno\n",
        "b"
      ],
      "metadata": {
        "id": "_CLuAySjm_Qe",
        "outputId": "a22bfb3e-7805-4061-ed6e-f7575137e066",
        "colab": {
          "base_uri": "https://localhost:8080/"
        }
      },
      "execution_count": null,
      "outputs": [
        {
          "output_type": "execute_result",
          "data": {
            "text/plain": [
              "array([3, 4, 5, 6, 7, 8, 9])"
            ]
          },
          "metadata": {},
          "execution_count": 30
        }
      ]
    },
    {
      "cell_type": "code",
      "source": [
        "c = np.arange(-2, -16, -1) # Crea un arreglo dentro de un rango, y hace un decremento de -1 hasta llegar al límite\n",
        "c"
      ],
      "metadata": {
        "id": "rtMdxaAhnFnO",
        "outputId": "540c8fc7-b2c2-4940-f385-11b42edfb403",
        "colab": {
          "base_uri": "https://localhost:8080/"
        }
      },
      "execution_count": null,
      "outputs": [
        {
          "output_type": "execute_result",
          "data": {
            "text/plain": [
              "array([ -2,  -3,  -4,  -5,  -6,  -7,  -8,  -9, -10, -11, -12, -13, -14,\n",
              "       -15])"
            ]
          },
          "metadata": {},
          "execution_count": 33
        }
      ]
    },
    {
      "cell_type": "code",
      "source": [
        "d = np.arange(2, 15, 2) # Crea un array que salta de dos en dos\n",
        "d"
      ],
      "metadata": {
        "id": "4A1rHfMXnGrE",
        "outputId": "e578176a-6598-4956-e988-1f61c89cc830",
        "colab": {
          "base_uri": "https://localhost:8080/"
        }
      },
      "execution_count": null,
      "outputs": [
        {
          "output_type": "execute_result",
          "data": {
            "text/plain": [
              "array([ 2,  4,  6,  8, 10, 12, 14])"
            ]
          },
          "metadata": {},
          "execution_count": 36
        }
      ]
    },
    {
      "cell_type": "code",
      "source": [
        "np.zeros(3) #Crear array con ceros"
      ],
      "metadata": {
        "id": "64tSym5InbPV",
        "outputId": "43de706d-4597-419f-c80c-b7be8c8c66b5",
        "colab": {
          "base_uri": "https://localhost:8080/"
        }
      },
      "execution_count": null,
      "outputs": [
        {
          "output_type": "execute_result",
          "data": {
            "text/plain": [
              "array([0., 0., 0.])"
            ]
          },
          "metadata": {},
          "execution_count": 37
        }
      ]
    },
    {
      "cell_type": "code",
      "source": [
        "np.zeros([10,10]) #Crear array con ceros"
      ],
      "metadata": {
        "id": "VxjkyMozouU0",
        "outputId": "428c9f87-5d29-4bd1-f5f1-a6ecf847c99f",
        "colab": {
          "base_uri": "https://localhost:8080/"
        }
      },
      "execution_count": null,
      "outputs": [
        {
          "output_type": "execute_result",
          "data": {
            "text/plain": [
              "array([[0., 0., 0., 0., 0., 0., 0., 0., 0., 0.],\n",
              "       [0., 0., 0., 0., 0., 0., 0., 0., 0., 0.],\n",
              "       [0., 0., 0., 0., 0., 0., 0., 0., 0., 0.],\n",
              "       [0., 0., 0., 0., 0., 0., 0., 0., 0., 0.],\n",
              "       [0., 0., 0., 0., 0., 0., 0., 0., 0., 0.],\n",
              "       [0., 0., 0., 0., 0., 0., 0., 0., 0., 0.],\n",
              "       [0., 0., 0., 0., 0., 0., 0., 0., 0., 0.],\n",
              "       [0., 0., 0., 0., 0., 0., 0., 0., 0., 0.],\n",
              "       [0., 0., 0., 0., 0., 0., 0., 0., 0., 0.],\n",
              "       [0., 0., 0., 0., 0., 0., 0., 0., 0., 0.]])"
            ]
          },
          "metadata": {},
          "execution_count": 38
        }
      ]
    },
    {
      "cell_type": "code",
      "source": [
        "np.ones([10,10]) #Crear array con unos"
      ],
      "metadata": {
        "id": "QKYMbmS7o5x2",
        "outputId": "0b6bce58-33c3-4a86-bc78-b02ac4e032ee",
        "colab": {
          "base_uri": "https://localhost:8080/"
        }
      },
      "execution_count": null,
      "outputs": [
        {
          "output_type": "execute_result",
          "data": {
            "text/plain": [
              "array([[1., 1., 1., 1., 1., 1., 1., 1., 1., 1.],\n",
              "       [1., 1., 1., 1., 1., 1., 1., 1., 1., 1.],\n",
              "       [1., 1., 1., 1., 1., 1., 1., 1., 1., 1.],\n",
              "       [1., 1., 1., 1., 1., 1., 1., 1., 1., 1.],\n",
              "       [1., 1., 1., 1., 1., 1., 1., 1., 1., 1.],\n",
              "       [1., 1., 1., 1., 1., 1., 1., 1., 1., 1.],\n",
              "       [1., 1., 1., 1., 1., 1., 1., 1., 1., 1.],\n",
              "       [1., 1., 1., 1., 1., 1., 1., 1., 1., 1.],\n",
              "       [1., 1., 1., 1., 1., 1., 1., 1., 1., 1.],\n",
              "       [1., 1., 1., 1., 1., 1., 1., 1., 1., 1.]])"
            ]
          },
          "metadata": {},
          "execution_count": 39
        }
      ]
    },
    {
      "cell_type": "code",
      "source": [
        "np.linspace(0,10,10) #Crea array con valor de inicio, valor límite, cuántos datos se van a generar de manera normalizada"
      ],
      "metadata": {
        "id": "p-3eqeatpDXU",
        "outputId": "5f4751d5-8b5a-4658-e5c7-46fd2b20637b",
        "colab": {
          "base_uri": "https://localhost:8080/"
        }
      },
      "execution_count": null,
      "outputs": [
        {
          "output_type": "execute_result",
          "data": {
            "text/plain": [
              "array([ 0.        ,  1.11111111,  2.22222222,  3.33333333,  4.44444444,\n",
              "        5.55555556,  6.66666667,  7.77777778,  8.88888889, 10.        ])"
            ]
          },
          "metadata": {},
          "execution_count": 45
        }
      ]
    },
    {
      "cell_type": "code",
      "source": [
        "np.linspace(0,10) #Crea array con valor de inicio, valor límite, cuántos datos se van a generar de manera normalizada"
      ],
      "metadata": {
        "id": "P_ezrRSNpVkw",
        "outputId": "5dfdc202-a46b-46d8-e9ef-375693fb1530",
        "colab": {
          "base_uri": "https://localhost:8080/"
        }
      },
      "execution_count": null,
      "outputs": [
        {
          "output_type": "execute_result",
          "data": {
            "text/plain": [
              "array([ 0.        ,  0.20408163,  0.40816327,  0.6122449 ,  0.81632653,\n",
              "        1.02040816,  1.2244898 ,  1.42857143,  1.63265306,  1.83673469,\n",
              "        2.04081633,  2.24489796,  2.44897959,  2.65306122,  2.85714286,\n",
              "        3.06122449,  3.26530612,  3.46938776,  3.67346939,  3.87755102,\n",
              "        4.08163265,  4.28571429,  4.48979592,  4.69387755,  4.89795918,\n",
              "        5.10204082,  5.30612245,  5.51020408,  5.71428571,  5.91836735,\n",
              "        6.12244898,  6.32653061,  6.53061224,  6.73469388,  6.93877551,\n",
              "        7.14285714,  7.34693878,  7.55102041,  7.75510204,  7.95918367,\n",
              "        8.16326531,  8.36734694,  8.57142857,  8.7755102 ,  8.97959184,\n",
              "        9.18367347,  9.3877551 ,  9.59183673,  9.79591837, 10.        ])"
            ]
          },
          "metadata": {},
          "execution_count": 46
        }
      ]
    },
    {
      "cell_type": "code",
      "source": [
        "np.eye(4) #Crea una matriz diagonal de dimesiones dadas"
      ],
      "metadata": {
        "id": "6if5RNa0pxXr",
        "outputId": "e6caee19-66cf-4156-9563-00e0d03dbf15",
        "colab": {
          "base_uri": "https://localhost:8080/"
        }
      },
      "execution_count": null,
      "outputs": [
        {
          "output_type": "execute_result",
          "data": {
            "text/plain": [
              "array([[1., 0., 0., 0.],\n",
              "       [0., 1., 0., 0.],\n",
              "       [0., 0., 1., 0.],\n",
              "       [0., 0., 0., 1.]])"
            ]
          },
          "metadata": {},
          "execution_count": 47
        }
      ]
    },
    {
      "cell_type": "code",
      "source": [
        "np.eye(10) #Crea una matriz diagonal de dimesiones dadas"
      ],
      "metadata": {
        "id": "Av9uHY8tqF2-",
        "outputId": "52d66c86-8a1b-4d8f-9398-50e916e7c14f",
        "colab": {
          "base_uri": "https://localhost:8080/"
        }
      },
      "execution_count": null,
      "outputs": [
        {
          "output_type": "execute_result",
          "data": {
            "text/plain": [
              "array([[1., 0., 0., 0., 0., 0., 0., 0., 0., 0.],\n",
              "       [0., 1., 0., 0., 0., 0., 0., 0., 0., 0.],\n",
              "       [0., 0., 1., 0., 0., 0., 0., 0., 0., 0.],\n",
              "       [0., 0., 0., 1., 0., 0., 0., 0., 0., 0.],\n",
              "       [0., 0., 0., 0., 1., 0., 0., 0., 0., 0.],\n",
              "       [0., 0., 0., 0., 0., 1., 0., 0., 0., 0.],\n",
              "       [0., 0., 0., 0., 0., 0., 1., 0., 0., 0.],\n",
              "       [0., 0., 0., 0., 0., 0., 0., 1., 0., 0.],\n",
              "       [0., 0., 0., 0., 0., 0., 0., 0., 1., 0.],\n",
              "       [0., 0., 0., 0., 0., 0., 0., 0., 0., 1.]])"
            ]
          },
          "metadata": {},
          "execution_count": 48
        }
      ]
    },
    {
      "cell_type": "code",
      "source": [
        "np.random.rand() #Genera un array con un valor aleatorio entre 0 y 1"
      ],
      "metadata": {
        "id": "mNIOvQ0EqJqp",
        "outputId": "8ac49368-d7f1-418f-a7e4-1b340970a80f",
        "colab": {
          "base_uri": "https://localhost:8080/"
        }
      },
      "execution_count": null,
      "outputs": [
        {
          "output_type": "execute_result",
          "data": {
            "text/plain": [
              "0.03566557159615191"
            ]
          },
          "metadata": {},
          "execution_count": 50
        }
      ]
    },
    {
      "cell_type": "code",
      "source": [
        "np.random.rand(4,3) #Genera un array con un valores aleatorio entre 0 y 1 de dimensiones dadas"
      ],
      "metadata": {
        "id": "pjHSuu5-qN9i",
        "outputId": "de66e8e7-eaae-49c1-de45-967f6c58c1a4",
        "colab": {
          "base_uri": "https://localhost:8080/"
        }
      },
      "execution_count": null,
      "outputs": [
        {
          "output_type": "execute_result",
          "data": {
            "text/plain": [
              "array([[0.89462056, 0.29063108, 0.91570012],\n",
              "       [0.59131316, 0.25629309, 0.84969637],\n",
              "       [0.34700841, 0.40925723, 0.55382257],\n",
              "       [0.83820439, 0.8886847 , 0.71911612]])"
            ]
          },
          "metadata": {},
          "execution_count": 53
        }
      ]
    },
    {
      "cell_type": "code",
      "source": [
        "np.random.randint(1,15) # Genera un entero con un valor aleatorio dento de los límites dados"
      ],
      "metadata": {
        "id": "mcP5gqIKqXzj",
        "outputId": "7e77c981-0bce-4c69-99a4-2a8c06174332",
        "colab": {
          "base_uri": "https://localhost:8080/"
        }
      },
      "execution_count": null,
      "outputs": [
        {
          "output_type": "execute_result",
          "data": {
            "text/plain": [
              "4"
            ]
          },
          "metadata": {},
          "execution_count": 62
        }
      ]
    },
    {
      "cell_type": "code",
      "source": [
        "np.random.randint(1,15, (10, 10)) #Crea un array y genera valores entero con un valor aleatorio dento de los límites dados en una estructura definida"
      ],
      "metadata": {
        "id": "2lkNKXnkqrWw",
        "outputId": "b6e33fde-77d0-47e5-a1e9-346b3371c836",
        "colab": {
          "base_uri": "https://localhost:8080/"
        }
      },
      "execution_count": null,
      "outputs": [
        {
          "output_type": "execute_result",
          "data": {
            "text/plain": [
              "array([[ 1, 14,  6,  7,  4,  8, 10,  1,  1,  5],\n",
              "       [13, 12,  8,  8,  2,  7, 12, 11,  3, 14],\n",
              "       [10,  8,  5,  1,  7,  3, 13,  1,  3,  3],\n",
              "       [ 7, 14,  7,  9,  2,  1,  2, 12,  8, 11],\n",
              "       [ 2, 13, 10,  9,  9, 13, 10, 14, 14, 11],\n",
              "       [ 8,  3,  6,  4,  4, 14,  5,  2,  6, 13],\n",
              "       [ 4,  2,  5,  4,  2,  5, 11, 10,  6,  2],\n",
              "       [ 3,  3, 14,  7,  6,  4,  6,  2, 10,  6],\n",
              "       [10,  6, 12,  5, 13,  6, 12,  5, 13, 11],\n",
              "       [ 6,  5,  9, 14,  2,  1, 13,  9, 11, 14]])"
            ]
          },
          "metadata": {},
          "execution_count": 65
        }
      ]
    },
    {
      "cell_type": "code",
      "source": [
        "np.random.randint(1,15, (3, 2, 4))#Crea un tensor y genera valores entero con un valor aleatorio dento de los límites dados en una estructura definida"
      ],
      "metadata": {
        "id": "L9PRbc8FriuM",
        "outputId": "892be3dd-08f7-4a45-a25d-4d40fdff464a",
        "colab": {
          "base_uri": "https://localhost:8080/"
        }
      },
      "execution_count": null,
      "outputs": [
        {
          "output_type": "execute_result",
          "data": {
            "text/plain": [
              "array([[[ 3,  6,  9,  1],\n",
              "        [ 5, 10,  6,  7]],\n",
              "\n",
              "       [[13,  4,  3,  2],\n",
              "        [ 8,  1,  1,  5]],\n",
              "\n",
              "       [[ 2,  5,  3,  5],\n",
              "        [ 4, 10,  9, 11]]])"
            ]
          },
          "metadata": {},
          "execution_count": 69
        }
      ]
    },
    {
      "cell_type": "markdown",
      "source": [
        "#Shape y Reshape"
      ],
      "metadata": {
        "id": "cPvSiMLfs8dZ"
      }
    },
    {
      "cell_type": "code",
      "source": [
        "#Shape es la forma del arreglo, es decir el tipo de estructura\n",
        "\n",
        "a = np.random.randint(1,10, (3,2))\n",
        "print(a, a.ndim)\n",
        "a.shape"
      ],
      "metadata": {
        "id": "--UAX8qtr6B7",
        "outputId": "b3cb08ad-2c41-41cb-e54c-716282915d11",
        "colab": {
          "base_uri": "https://localhost:8080/"
        }
      },
      "execution_count": null,
      "outputs": [
        {
          "output_type": "stream",
          "name": "stdout",
          "text": [
            "[[2 7]\n",
            " [5 9]\n",
            " [7 1]] 2\n"
          ]
        },
        {
          "output_type": "execute_result",
          "data": {
            "text/plain": [
              "(3, 2)"
            ]
          },
          "metadata": {},
          "execution_count": 10
        }
      ]
    },
    {
      "cell_type": "code",
      "source": [
        "b = a.reshape(1,6) # Cambia la forma del array y ajusta los elementos para que se ajusten\n",
        "c = a.reshape(2,3)\n",
        "print(a,'\\n',b,'\\n', c,'\\n', b.ndim,'\\n', a.shape)\n"
      ],
      "metadata": {
        "id": "SdCAxQbRYmf5",
        "outputId": "cf25a444-9e36-4da0-a40c-7a5c6304c475",
        "colab": {
          "base_uri": "https://localhost:8080/"
        }
      },
      "execution_count": null,
      "outputs": [
        {
          "output_type": "stream",
          "name": "stdout",
          "text": [
            "[[2 7]\n",
            " [5 9]\n",
            " [7 1]] \n",
            " [[2 7 5 9 7 1]] \n",
            " [[2 7 5]\n",
            " [9 7 1]] \n",
            " 2 \n",
            " (3, 2)\n"
          ]
        }
      ]
    },
    {
      "cell_type": "code",
      "source": [
        "np.reshape(a, (1,6)) # Esta forma simplifica la sintaxis"
      ],
      "metadata": {
        "id": "J41EdQdAZFYY",
        "outputId": "89ca716a-b26c-4f49-d1af-f58cc38ebbb3",
        "colab": {
          "base_uri": "https://localhost:8080/"
        }
      },
      "execution_count": null,
      "outputs": [
        {
          "output_type": "execute_result",
          "data": {
            "text/plain": [
              "array([[2, 7, 5, 9, 7, 1]])"
            ]
          },
          "metadata": {},
          "execution_count": 29
        }
      ]
    },
    {
      "cell_type": "code",
      "source": [
        "print(a)\n",
        "np.reshape(a, (2,3), 'C') # Reorganiza basándose en el lenguaje de C, tomando elementos de izq a der en filas"
      ],
      "metadata": {
        "id": "qwf_Lu3xbMoN",
        "outputId": "bd6d8b06-a975-426c-d707-b30d86204e5e",
        "colab": {
          "base_uri": "https://localhost:8080/"
        }
      },
      "execution_count": null,
      "outputs": [
        {
          "output_type": "stream",
          "name": "stdout",
          "text": [
            "[[2 7]\n",
            " [5 9]\n",
            " [7 1]]\n"
          ]
        },
        {
          "output_type": "execute_result",
          "data": {
            "text/plain": [
              "array([[2, 7, 5],\n",
              "       [9, 7, 1]])"
            ]
          },
          "metadata": {},
          "execution_count": 24
        }
      ]
    },
    {
      "cell_type": "code",
      "source": [
        "print(a)\n",
        "np.reshape(a, (2,3), 'F') # Reorganiza basándose en el lenguaje de Fortran, tomando elementos de izq a der en columnas"
      ],
      "metadata": {
        "id": "9-O3KdrHbapD",
        "outputId": "a729b2a8-880b-4710-879f-7156512a9738",
        "colab": {
          "base_uri": "https://localhost:8080/"
        }
      },
      "execution_count": null,
      "outputs": [
        {
          "output_type": "stream",
          "name": "stdout",
          "text": [
            "[[2 7]\n",
            " [5 9]\n",
            " [7 1]]\n"
          ]
        },
        {
          "output_type": "execute_result",
          "data": {
            "text/plain": [
              "array([[2, 7, 9],\n",
              "       [5, 7, 1]])"
            ]
          },
          "metadata": {},
          "execution_count": 25
        }
      ]
    },
    {
      "cell_type": "code",
      "source": [
        "print(a)\n",
        "np.reshape(a, (2,3), 'A') # Reorganiza basándose en el lenguaje que tiene mi sistema optimizado, en mi caso es C"
      ],
      "metadata": {
        "id": "tetx0qVMcH55",
        "outputId": "da1a8b7f-d15f-453b-d92e-bbd5eb61b2a6",
        "colab": {
          "base_uri": "https://localhost:8080/"
        }
      },
      "execution_count": null,
      "outputs": [
        {
          "output_type": "stream",
          "name": "stdout",
          "text": [
            "[[2 7]\n",
            " [5 9]\n",
            " [7 1]]\n"
          ]
        },
        {
          "output_type": "execute_result",
          "data": {
            "text/plain": [
              "array([[2, 7, 5],\n",
              "       [9, 7, 1]])"
            ]
          },
          "metadata": {},
          "execution_count": 28
        }
      ]
    },
    {
      "cell_type": "code",
      "source": [
        "e = np.reshape(a, (1,7)) #Arroja error ya que al usar el reshape, es necesario que las nuevas dimensiones respeten la cantidad de elementos del array original"
      ],
      "metadata": {
        "id": "RmxahHcocmAM",
        "outputId": "d83e0def-071d-45c5-8f06-9014f939ebd4",
        "colab": {
          "base_uri": "https://localhost:8080/",
          "height": 293
        }
      },
      "execution_count": null,
      "outputs": [
        {
          "output_type": "error",
          "ename": "ValueError",
          "evalue": "cannot reshape array of size 6 into shape (1,7)",
          "traceback": [
            "\u001b[0;31m---------------------------------------------------------------------------\u001b[0m",
            "\u001b[0;31mValueError\u001b[0m                                Traceback (most recent call last)",
            "\u001b[0;32m<ipython-input-31-74aa436e68de>\u001b[0m in \u001b[0;36m<cell line: 1>\u001b[0;34m()\u001b[0m\n\u001b[0;32m----> 1\u001b[0;31m \u001b[0me\u001b[0m \u001b[0;34m=\u001b[0m \u001b[0mnp\u001b[0m\u001b[0;34m.\u001b[0m\u001b[0mreshape\u001b[0m\u001b[0;34m(\u001b[0m\u001b[0ma\u001b[0m\u001b[0;34m,\u001b[0m \u001b[0;34m(\u001b[0m\u001b[0;36m1\u001b[0m\u001b[0;34m,\u001b[0m\u001b[0;36m7\u001b[0m\u001b[0;34m)\u001b[0m\u001b[0;34m)\u001b[0m \u001b[0;31m#Arroja error ya que al usar el reshape, es necesario que las nuevas dimensiones respeten la cantidad de elementos del array original\u001b[0m\u001b[0;34m\u001b[0m\u001b[0;34m\u001b[0m\u001b[0m\n\u001b[0m",
            "\u001b[0;32m/usr/local/lib/python3.10/dist-packages/numpy/core/fromnumeric.py\u001b[0m in \u001b[0;36mreshape\u001b[0;34m(a, newshape, order)\u001b[0m\n\u001b[1;32m    283\u001b[0m            [5, 6]])\n\u001b[1;32m    284\u001b[0m     \"\"\"\n\u001b[0;32m--> 285\u001b[0;31m     \u001b[0;32mreturn\u001b[0m \u001b[0m_wrapfunc\u001b[0m\u001b[0;34m(\u001b[0m\u001b[0ma\u001b[0m\u001b[0;34m,\u001b[0m \u001b[0;34m'reshape'\u001b[0m\u001b[0;34m,\u001b[0m \u001b[0mnewshape\u001b[0m\u001b[0;34m,\u001b[0m \u001b[0morder\u001b[0m\u001b[0;34m=\u001b[0m\u001b[0morder\u001b[0m\u001b[0;34m)\u001b[0m\u001b[0;34m\u001b[0m\u001b[0;34m\u001b[0m\u001b[0m\n\u001b[0m\u001b[1;32m    286\u001b[0m \u001b[0;34m\u001b[0m\u001b[0m\n\u001b[1;32m    287\u001b[0m \u001b[0;34m\u001b[0m\u001b[0m\n",
            "\u001b[0;32m/usr/local/lib/python3.10/dist-packages/numpy/core/fromnumeric.py\u001b[0m in \u001b[0;36m_wrapfunc\u001b[0;34m(obj, method, *args, **kwds)\u001b[0m\n\u001b[1;32m     57\u001b[0m \u001b[0;34m\u001b[0m\u001b[0m\n\u001b[1;32m     58\u001b[0m     \u001b[0;32mtry\u001b[0m\u001b[0;34m:\u001b[0m\u001b[0;34m\u001b[0m\u001b[0;34m\u001b[0m\u001b[0m\n\u001b[0;32m---> 59\u001b[0;31m         \u001b[0;32mreturn\u001b[0m \u001b[0mbound\u001b[0m\u001b[0;34m(\u001b[0m\u001b[0;34m*\u001b[0m\u001b[0margs\u001b[0m\u001b[0;34m,\u001b[0m \u001b[0;34m**\u001b[0m\u001b[0mkwds\u001b[0m\u001b[0;34m)\u001b[0m\u001b[0;34m\u001b[0m\u001b[0;34m\u001b[0m\u001b[0m\n\u001b[0m\u001b[1;32m     60\u001b[0m     \u001b[0;32mexcept\u001b[0m \u001b[0mTypeError\u001b[0m\u001b[0;34m:\u001b[0m\u001b[0;34m\u001b[0m\u001b[0;34m\u001b[0m\u001b[0m\n\u001b[1;32m     61\u001b[0m         \u001b[0;31m# A TypeError occurs if the object does have such a method in its\u001b[0m\u001b[0;34m\u001b[0m\u001b[0;34m\u001b[0m\u001b[0m\n",
            "\u001b[0;31mValueError\u001b[0m: cannot reshape array of size 6 into shape (1,7)"
          ]
        }
      ]
    },
    {
      "cell_type": "markdown",
      "source": [
        "#Funciones principales de NumPy"
      ],
      "metadata": {
        "id": "GFC4tOQjdScI"
      }
    },
    {
      "cell_type": "code",
      "source": [
        "a = np.random.randint(1, 20, 10)\n",
        "a"
      ],
      "metadata": {
        "id": "3DiIi_qxc_JQ",
        "outputId": "76c00879-8ba7-4dea-f3df-b933b311e591",
        "colab": {
          "base_uri": "https://localhost:8080/"
        }
      },
      "execution_count": null,
      "outputs": [
        {
          "output_type": "execute_result",
          "data": {
            "text/plain": [
              "array([ 3, 16, 11,  1, 10,  8, 16, 19, 11, 13])"
            ]
          },
          "metadata": {},
          "execution_count": 33
        }
      ]
    },
    {
      "cell_type": "code",
      "source": [
        "b = a.reshape(2, 5)\n",
        "b"
      ],
      "metadata": {
        "id": "y9f6kkzYdmf4",
        "outputId": "7b609be5-0bb0-4b12-bf8f-5036fcbdafc7",
        "colab": {
          "base_uri": "https://localhost:8080/"
        }
      },
      "execution_count": null,
      "outputs": [
        {
          "output_type": "execute_result",
          "data": {
            "text/plain": [
              "array([[ 3, 16, 11,  1, 10],\n",
              "       [ 8, 16, 19, 11, 13]])"
            ]
          },
          "metadata": {},
          "execution_count": 35
        }
      ]
    },
    {
      "cell_type": "code",
      "source": [
        "b.max() #Trar el valor máximo del array"
      ],
      "metadata": {
        "id": "9pO3d7WDdyPh",
        "outputId": "9f7bd74d-8978-471f-96fc-c1e478fbde26",
        "colab": {
          "base_uri": "https://localhost:8080/"
        }
      },
      "execution_count": null,
      "outputs": [
        {
          "output_type": "execute_result",
          "data": {
            "text/plain": [
              "19"
            ]
          },
          "metadata": {},
          "execution_count": 38
        }
      ]
    },
    {
      "cell_type": "code",
      "source": [
        "b.max(1) #Trar lor valores máximos de cada fila"
      ],
      "metadata": {
        "id": "BsQMm2Xpd6x1",
        "outputId": "8ec18341-08c5-4136-e74e-475b81530b20",
        "colab": {
          "base_uri": "https://localhost:8080/"
        }
      },
      "execution_count": null,
      "outputs": [
        {
          "output_type": "execute_result",
          "data": {
            "text/plain": [
              "array([16, 19])"
            ]
          },
          "metadata": {},
          "execution_count": 40
        }
      ]
    },
    {
      "cell_type": "code",
      "source": [
        "b.max(0) #Trar lor valores máximos de cada columna"
      ],
      "metadata": {
        "id": "UNUaKIFSeKJ2",
        "outputId": "7eed8bc3-7b41-4b42-e322-00452aba25f8",
        "colab": {
          "base_uri": "https://localhost:8080/"
        }
      },
      "execution_count": null,
      "outputs": [
        {
          "output_type": "execute_result",
          "data": {
            "text/plain": [
              "array([ 8, 16, 19, 11, 13])"
            ]
          },
          "metadata": {},
          "execution_count": 42
        }
      ]
    },
    {
      "cell_type": "code",
      "source": [
        "b.argmax() #Trae el indice que contiene el valor máximo en todo el array"
      ],
      "metadata": {
        "id": "usXE2HbUeTiV",
        "outputId": "9b8a4c42-1ca1-4565-b7f1-838d18ef9678",
        "colab": {
          "base_uri": "https://localhost:8080/"
        }
      },
      "execution_count": null,
      "outputs": [
        {
          "output_type": "execute_result",
          "data": {
            "text/plain": [
              "7"
            ]
          },
          "metadata": {},
          "execution_count": 44
        }
      ]
    },
    {
      "cell_type": "code",
      "source": [
        "b.argmax(1) #Trae el indice que contiene el valor máximo por fila"
      ],
      "metadata": {
        "id": "C3y8Rt_yedo3",
        "outputId": "83f83bf0-69f8-4876-930a-ae8df623a705",
        "colab": {
          "base_uri": "https://localhost:8080/"
        }
      },
      "execution_count": null,
      "outputs": [
        {
          "output_type": "execute_result",
          "data": {
            "text/plain": [
              "array([1, 2])"
            ]
          },
          "metadata": {},
          "execution_count": 45
        }
      ]
    },
    {
      "cell_type": "code",
      "source": [
        "b.argmax(0) #Trae el indice que contiene el valor máximo por columna"
      ],
      "metadata": {
        "id": "hfOBcIFNeqNn",
        "outputId": "030fae25-38f3-4526-a367-0ff77588220f",
        "colab": {
          "base_uri": "https://localhost:8080/"
        }
      },
      "execution_count": null,
      "outputs": [
        {
          "output_type": "execute_result",
          "data": {
            "text/plain": [
              "array([1, 0, 1, 1, 1])"
            ]
          },
          "metadata": {},
          "execution_count": 47
        }
      ]
    },
    {
      "cell_type": "code",
      "source": [
        "b.argmin() #Trae el indice que contiene el valor mínimo en todo el array"
      ],
      "metadata": {
        "id": "1Ycb0heHertN",
        "outputId": "9a288499-dd2d-4217-edba-4c9cd6f55966",
        "colab": {
          "base_uri": "https://localhost:8080/"
        }
      },
      "execution_count": null,
      "outputs": [
        {
          "output_type": "execute_result",
          "data": {
            "text/plain": [
              "3"
            ]
          },
          "metadata": {},
          "execution_count": 50
        }
      ]
    },
    {
      "cell_type": "code",
      "source": [
        "b.argmin(1) #Trae el indice que contiene el valor mínimo por columna"
      ],
      "metadata": {
        "id": "mjF-4zcEe7pf",
        "outputId": "be07edcd-51db-48e3-f8fc-634facd7af9e",
        "colab": {
          "base_uri": "https://localhost:8080/"
        }
      },
      "execution_count": null,
      "outputs": [
        {
          "output_type": "execute_result",
          "data": {
            "text/plain": [
              "array([3, 0])"
            ]
          },
          "metadata": {},
          "execution_count": 51
        }
      ]
    },
    {
      "cell_type": "code",
      "source": [
        "b.argmin(0) #Trae el indice que contiene el valor mínimo por columna"
      ],
      "metadata": {
        "id": "076vVjzmfC2t",
        "outputId": "719c401a-db27-49e6-94d8-5b1ea46641c1",
        "colab": {
          "base_uri": "https://localhost:8080/"
        }
      },
      "execution_count": null,
      "outputs": [
        {
          "output_type": "execute_result",
          "data": {
            "text/plain": [
              "array([0, 0, 0, 0, 0])"
            ]
          },
          "metadata": {},
          "execution_count": 53
        }
      ]
    },
    {
      "cell_type": "code",
      "source": [
        "b.ptp() #Peack to Peack muestra la diferencia entre el valor máximo y mínimo de todo el array"
      ],
      "metadata": {
        "id": "XIzRgVH2fPAY",
        "outputId": "066fdc91-d206-4d12-ecb7-fda670ffcf0a",
        "colab": {
          "base_uri": "https://localhost:8080/"
        }
      },
      "execution_count": null,
      "outputs": [
        {
          "output_type": "execute_result",
          "data": {
            "text/plain": [
              "18"
            ]
          },
          "metadata": {},
          "execution_count": 55
        }
      ]
    },
    {
      "cell_type": "code",
      "source": [
        "b.ptp(1) #Peack to Peack muestra la diferencia entre el valor máximo y mínimo de todo el array"
      ],
      "metadata": {
        "id": "Mlp6HK9dfd4a",
        "outputId": "da86473d-6b2c-45de-f420-1a069ce14763",
        "colab": {
          "base_uri": "https://localhost:8080/"
        }
      },
      "execution_count": null,
      "outputs": [
        {
          "output_type": "execute_result",
          "data": {
            "text/plain": [
              "array([15, 11])"
            ]
          },
          "metadata": {},
          "execution_count": 56
        }
      ]
    },
    {
      "cell_type": "code",
      "source": [
        "b.ptp(0) #Peack to Peack muestra la diferencia entre el valor máximo y mínimo en columnas"
      ],
      "metadata": {
        "id": "NA4Kzk_pfyla",
        "outputId": "86ec63f3-a70e-4c49-9da6-3e410782e16d",
        "colab": {
          "base_uri": "https://localhost:8080/"
        }
      },
      "execution_count": null,
      "outputs": [
        {
          "output_type": "execute_result",
          "data": {
            "text/plain": [
              "array([ 5,  0,  8, 10,  3])"
            ]
          },
          "metadata": {},
          "execution_count": 57
        }
      ]
    },
    {
      "cell_type": "code",
      "source": [
        "b.ptp(1) #Peack to Peack muestra la diferencia entre el valor máximo y mínimo en filas"
      ],
      "metadata": {
        "id": "ErrgNZSnf0xf",
        "outputId": "e2f54579-901e-44b7-cdec-2453c322e206",
        "colab": {
          "base_uri": "https://localhost:8080/"
        }
      },
      "execution_count": null,
      "outputs": [
        {
          "output_type": "execute_result",
          "data": {
            "text/plain": [
              "array([15, 11])"
            ]
          },
          "metadata": {},
          "execution_count": 58
        }
      ]
    },
    {
      "cell_type": "code",
      "source": [
        "np.percentile(b,50) #Valor que se encuentra en la mitad"
      ],
      "metadata": {
        "id": "rF4KAP3RnJ3L",
        "outputId": "dc406569-a45c-4f0f-a1a6-f01a9c1f553b",
        "colab": {
          "base_uri": "https://localhost:8080/"
        }
      },
      "execution_count": null,
      "outputs": [
        {
          "output_type": "execute_result",
          "data": {
            "text/plain": [
              "11.0"
            ]
          },
          "metadata": {},
          "execution_count": 62
        }
      ]
    },
    {
      "cell_type": "code",
      "source": [
        "b"
      ],
      "metadata": {
        "id": "4cBepPJXnRoq",
        "outputId": "b4f2b9c6-35fb-42d4-dca6-245f4313ae02",
        "colab": {
          "base_uri": "https://localhost:8080/"
        }
      },
      "execution_count": null,
      "outputs": [
        {
          "output_type": "execute_result",
          "data": {
            "text/plain": [
              "array([[ 3, 16, 11,  1, 10],\n",
              "       [ 8, 16, 19, 11, 13]])"
            ]
          },
          "metadata": {},
          "execution_count": 61
        }
      ]
    },
    {
      "cell_type": "code",
      "source": [
        "b.sort() #Ordena los elementos de menor a mayor\n",
        "b"
      ],
      "metadata": {
        "id": "Chp-2BCcnl_7",
        "outputId": "ccd4e68b-f987-442f-8c9d-8380a0abcc3e",
        "colab": {
          "base_uri": "https://localhost:8080/"
        }
      },
      "execution_count": null,
      "outputs": [
        {
          "output_type": "execute_result",
          "data": {
            "text/plain": [
              "array([[ 1,  3, 10, 11, 16],\n",
              "       [ 8, 11, 13, 16, 19]])"
            ]
          },
          "metadata": {},
          "execution_count": 65
        }
      ]
    },
    {
      "cell_type": "code",
      "source": [
        "np.median(b) #Obtener mediana"
      ],
      "metadata": {
        "id": "rp0Neo0ZnrB-",
        "outputId": "d8361dcf-44f8-42a3-a84a-ef0dc32878d7",
        "colab": {
          "base_uri": "https://localhost:8080/"
        }
      },
      "execution_count": null,
      "outputs": [
        {
          "output_type": "execute_result",
          "data": {
            "text/plain": [
              "11.0"
            ]
          },
          "metadata": {},
          "execution_count": 66
        }
      ]
    },
    {
      "cell_type": "code",
      "source": [
        "np.median(b, 0) #Obtener mediana por columnas"
      ],
      "metadata": {
        "id": "UD8rwzAvn5lM",
        "outputId": "dc72a8a9-07aa-43a9-dff7-a699b1ea1af4",
        "colab": {
          "base_uri": "https://localhost:8080/"
        }
      },
      "execution_count": null,
      "outputs": [
        {
          "output_type": "execute_result",
          "data": {
            "text/plain": [
              "array([ 4.5,  7. , 11.5, 13.5, 17.5])"
            ]
          },
          "metadata": {},
          "execution_count": 67
        }
      ]
    },
    {
      "cell_type": "code",
      "source": [
        "np.median(b, 1) #Obtener mediana por filas"
      ],
      "metadata": {
        "id": "2juHTRbLoEzd",
        "outputId": "2adcfc12-0ac1-4572-c34c-63419d2a6825",
        "colab": {
          "base_uri": "https://localhost:8080/"
        }
      },
      "execution_count": null,
      "outputs": [
        {
          "output_type": "execute_result",
          "data": {
            "text/plain": [
              "array([10., 13.])"
            ]
          },
          "metadata": {},
          "execution_count": 69
        }
      ]
    },
    {
      "cell_type": "code",
      "source": [
        "np.std(b) #Desviación estandar"
      ],
      "metadata": {
        "id": "1IwFIcocoGDO",
        "outputId": "7e3d0051-1636-4241-87ef-aab0177c77cf",
        "colab": {
          "base_uri": "https://localhost:8080/"
        }
      },
      "execution_count": null,
      "outputs": [
        {
          "output_type": "execute_result",
          "data": {
            "text/plain": [
              "5.4"
            ]
          },
          "metadata": {},
          "execution_count": 70
        }
      ]
    },
    {
      "cell_type": "code",
      "source": [
        "np.var(b) #Varianza"
      ],
      "metadata": {
        "id": "Vrcfz05UoWdv",
        "outputId": "5fe8350a-b1e2-4d7d-ae75-2a3ff0c7b811",
        "colab": {
          "base_uri": "https://localhost:8080/"
        }
      },
      "execution_count": null,
      "outputs": [
        {
          "output_type": "execute_result",
          "data": {
            "text/plain": [
              "29.160000000000004"
            ]
          },
          "metadata": {},
          "execution_count": 71
        }
      ]
    },
    {
      "cell_type": "code",
      "source": [
        "np.mean(b) #Media"
      ],
      "metadata": {
        "id": "GqyF4BsfobJs",
        "outputId": "378b9f2d-3714-4d3a-e3de-58266a3e408a",
        "colab": {
          "base_uri": "https://localhost:8080/"
        }
      },
      "execution_count": null,
      "outputs": [
        {
          "output_type": "execute_result",
          "data": {
            "text/plain": [
              "10.8"
            ]
          },
          "metadata": {},
          "execution_count": 72
        }
      ]
    },
    {
      "cell_type": "code",
      "source": [
        "a = np.array([[1,2],[3,4]])\n",
        "a"
      ],
      "metadata": {
        "id": "CnyE2p7YomNA",
        "outputId": "e46a3868-b449-40d6-fc2d-a931d3b3f17f",
        "colab": {
          "base_uri": "https://localhost:8080/"
        }
      },
      "execution_count": null,
      "outputs": [
        {
          "output_type": "execute_result",
          "data": {
            "text/plain": [
              "array([[1, 2],\n",
              "       [3, 4]])"
            ]
          },
          "metadata": {},
          "execution_count": 73
        }
      ]
    },
    {
      "cell_type": "code",
      "source": [
        "b = np.array([5,6])\n",
        "b"
      ],
      "metadata": {
        "id": "lOJFj0sio3tc",
        "outputId": "f7e049d6-e9be-4ee5-888c-c1e8889a3644",
        "colab": {
          "base_uri": "https://localhost:8080/"
        }
      },
      "execution_count": null,
      "outputs": [
        {
          "output_type": "execute_result",
          "data": {
            "text/plain": [
              "array([5, 6])"
            ]
          },
          "metadata": {},
          "execution_count": 74
        }
      ]
    },
    {
      "cell_type": "code",
      "source": [
        "np.concatenate((a, b), axis=1) #Para hace una concatenacion, las dimensiones de los arreglos deben ser iguales"
      ],
      "metadata": {
        "id": "C86Wa9KbpHU8",
        "outputId": "eb5ac354-9934-49a9-a4fc-0d3f7311bd75",
        "colab": {
          "base_uri": "https://localhost:8080/",
          "height": 144
        }
      },
      "execution_count": null,
      "outputs": [
        {
          "output_type": "error",
          "ename": "TypeError",
          "evalue": "concatenate() got multiple values for argument 'axis'",
          "traceback": [
            "\u001b[0;31m---------------------------------------------------------------------------\u001b[0m",
            "\u001b[0;31mTypeError\u001b[0m                                 Traceback (most recent call last)",
            "\u001b[0;32m<ipython-input-78-e6d3516fdf47>\u001b[0m in \u001b[0;36m<cell line: 1>\u001b[0;34m()\u001b[0m\n\u001b[0;32m----> 1\u001b[0;31m \u001b[0mnp\u001b[0m\u001b[0;34m.\u001b[0m\u001b[0mconcatenate\u001b[0m\u001b[0;34m(\u001b[0m\u001b[0ma\u001b[0m\u001b[0;34m,\u001b[0m \u001b[0mb\u001b[0m\u001b[0;34m,\u001b[0m \u001b[0maxis\u001b[0m\u001b[0;34m=\u001b[0m\u001b[0;36m1\u001b[0m\u001b[0;34m)\u001b[0m \u001b[0;31m#Para hace una concatenacion, las dimensiones de los arreglos deben ser iguales\u001b[0m\u001b[0;34m\u001b[0m\u001b[0;34m\u001b[0m\u001b[0m\n\u001b[0m",
            "\u001b[0;31mTypeError\u001b[0m: concatenate() got multiple values for argument 'axis'"
          ]
        }
      ]
    },
    {
      "cell_type": "code",
      "source": [
        "a.ndim"
      ],
      "metadata": {
        "id": "5KQJrC01pLUg",
        "outputId": "99bd528a-36f6-4fd3-d23a-d3939f4937ba",
        "colab": {
          "base_uri": "https://localhost:8080/"
        }
      },
      "execution_count": null,
      "outputs": [
        {
          "output_type": "execute_result",
          "data": {
            "text/plain": [
              "2"
            ]
          },
          "metadata": {},
          "execution_count": 79
        }
      ]
    },
    {
      "cell_type": "code",
      "source": [
        "b.ndim"
      ],
      "metadata": {
        "id": "-2bOj8X1pkAz",
        "outputId": "fea9735c-05fb-4ba8-fb40-549eda64ce73",
        "colab": {
          "base_uri": "https://localhost:8080/"
        }
      },
      "execution_count": null,
      "outputs": [
        {
          "output_type": "execute_result",
          "data": {
            "text/plain": [
              "1"
            ]
          },
          "metadata": {},
          "execution_count": 80
        }
      ]
    },
    {
      "cell_type": "code",
      "source": [
        "c1 = np.expand_dims(b, axis=0) #Ordena arreglo por columnas\n",
        "print(c1,c1.shape)"
      ],
      "metadata": {
        "id": "7xhz93LrpoGr",
        "outputId": "cc739bd6-4476-4a5d-c277-c27b565646f0",
        "colab": {
          "base_uri": "https://localhost:8080/"
        }
      },
      "execution_count": null,
      "outputs": [
        {
          "output_type": "stream",
          "name": "stdout",
          "text": [
            "[[5 6]] (1, 2)\n"
          ]
        }
      ]
    },
    {
      "cell_type": "code",
      "source": [
        "c2 = np.expand_dims(b, axis=1) #Ordena arreglo por filas\n",
        "print(c2, c2.shape)"
      ],
      "metadata": {
        "id": "ZaaGPblgp4fv",
        "outputId": "a897d54c-5db3-47a7-d719-a22f95065dbe",
        "colab": {
          "base_uri": "https://localhost:8080/"
        }
      },
      "execution_count": null,
      "outputs": [
        {
          "output_type": "stream",
          "name": "stdout",
          "text": [
            "[[5]\n",
            " [6]] (2, 1)\n"
          ]
        }
      ]
    },
    {
      "cell_type": "code",
      "source": [
        "np.concatenate((a, c1), axis=0) #Hace concatenacion por filas con el array de (1,2)"
      ],
      "metadata": {
        "id": "NNuIWLfcp7PL",
        "outputId": "63fc868c-6cad-4f58-d7bb-7beee5f297c1",
        "colab": {
          "base_uri": "https://localhost:8080/"
        }
      },
      "execution_count": null,
      "outputs": [
        {
          "output_type": "execute_result",
          "data": {
            "text/plain": [
              "array([[1, 2],\n",
              "       [3, 4],\n",
              "       [5, 6]])"
            ]
          },
          "metadata": {},
          "execution_count": 98
        }
      ]
    },
    {
      "cell_type": "code",
      "source": [
        "np.concatenate((a, c2), axis=1) #Hace concatenacion por columnas con el array de (2,1)"
      ],
      "metadata": {
        "id": "qr6Gvz6_qxQk",
        "outputId": "692fe741-cf55-4455-99ce-1725024e072b",
        "colab": {
          "base_uri": "https://localhost:8080/"
        }
      },
      "execution_count": null,
      "outputs": [
        {
          "output_type": "execute_result",
          "data": {
            "text/plain": [
              "array([[1, 2, 5],\n",
              "       [3, 4, 6]])"
            ]
          },
          "metadata": {},
          "execution_count": 100
        }
      ]
    },
    {
      "cell_type": "code",
      "source": [
        "c1"
      ],
      "metadata": {
        "id": "g-ZHkbD1rVaz",
        "outputId": "17365c7e-c88b-4ade-a30a-eada36c22fa1",
        "colab": {
          "base_uri": "https://localhost:8080/"
        }
      },
      "execution_count": null,
      "outputs": [
        {
          "output_type": "execute_result",
          "data": {
            "text/plain": [
              "array([[5, 6]])"
            ]
          },
          "metadata": {},
          "execution_count": 110
        }
      ]
    },
    {
      "cell_type": "code",
      "source": [
        "c1.T #Realiza la traspuesta de la matriz"
      ],
      "metadata": {
        "id": "j0TA3qLfsEtC",
        "outputId": "98f164ea-c00d-4910-98b9-ad1c2fad3a25",
        "colab": {
          "base_uri": "https://localhost:8080/"
        }
      },
      "execution_count": null,
      "outputs": [
        {
          "output_type": "execute_result",
          "data": {
            "text/plain": [
              "array([[5],\n",
              "       [6]])"
            ]
          },
          "metadata": {},
          "execution_count": 111
        }
      ]
    },
    {
      "cell_type": "code",
      "source": [],
      "metadata": {
        "id": "o0ZwOVeHsYOg"
      },
      "execution_count": null,
      "outputs": []
    }
  ]
}