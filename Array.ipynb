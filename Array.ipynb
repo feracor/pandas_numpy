{
  "nbformat": 4,
  "nbformat_minor": 0,
  "metadata": {
    "colab": {
      "provenance": [],
      "authorship_tag": "ABX9TyMrgLZcJC8wmfkrjBv0Nw5L",
      "include_colab_link": true
    },
    "kernelspec": {
      "name": "python3",
      "display_name": "Python 3"
    },
    "language_info": {
      "name": "python"
    }
  },
  "cells": [
    {
      "cell_type": "markdown",
      "metadata": {
        "id": "view-in-github",
        "colab_type": "text"
      },
      "source": [
        "<a href=\"https://colab.research.google.com/github/feracor/pandas_numpy/blob/main/Array.ipynb\" target=\"_parent\"><img src=\"https://colab.research.google.com/assets/colab-badge.svg\" alt=\"Open In Colab\"/></a>"
      ]
    },
    {
      "cell_type": "markdown",
      "source": [
        "#NumPy Array"
      ],
      "metadata": {
        "id": "N9WBYTmc4Cts"
      }
    },
    {
      "cell_type": "code",
      "execution_count": null,
      "metadata": {
        "id": "5A6nfys0xBfF"
      },
      "outputs": [],
      "source": [
        "import numpy as np"
      ]
    },
    {
      "cell_type": "code",
      "source": [
        "lista = [ 1, 2, 3, 4, 5, 6, 7, 8, 9, 10]\n",
        "lista"
      ],
      "metadata": {
        "colab": {
          "base_uri": "https://localhost:8080/"
        },
        "id": "ljf5XDILxvI0",
        "outputId": "ede41b85-5de2-420e-9255-86dfe7fe6d16"
      },
      "execution_count": null,
      "outputs": [
        {
          "output_type": "execute_result",
          "data": {
            "text/plain": [
              "[1, 2, 3, 4, 5, 6, 7, 8, 9, 10]"
            ]
          },
          "metadata": {},
          "execution_count": 4
        }
      ]
    },
    {
      "cell_type": "code",
      "source": [
        "arr = np.array(lista)\n",
        "print(type(arr))\n",
        "arr\n"
      ],
      "metadata": {
        "colab": {
          "base_uri": "https://localhost:8080/"
        },
        "id": "fDKubucWx4wX",
        "outputId": "9dd36fef-cc96-411a-c4ce-ee0158fdff9c"
      },
      "execution_count": null,
      "outputs": [
        {
          "output_type": "stream",
          "name": "stdout",
          "text": [
            "<class 'numpy.ndarray'>\n"
          ]
        },
        {
          "output_type": "execute_result",
          "data": {
            "text/plain": [
              "array([ 1,  2,  3,  4,  5,  6,  7,  8,  9, 10])"
            ]
          },
          "metadata": {},
          "execution_count": 10
        }
      ]
    },
    {
      "cell_type": "code",
      "source": [
        "matriz = [[1, 2, 3], [4, 5, 6], [7, 8, 9]]\n",
        "print(type(matriz))\n",
        "print(matriz)\n",
        "\n",
        "matriz = np.array(matriz)\n",
        "print(type(matriz))\n",
        "print(matriz)\n"
      ],
      "metadata": {
        "colab": {
          "base_uri": "https://localhost:8080/"
        },
        "id": "_nAOqmxZyDoG",
        "outputId": "2b6e540e-045a-44b3-f8d4-8bf90789ef0c"
      },
      "execution_count": null,
      "outputs": [
        {
          "output_type": "stream",
          "name": "stdout",
          "text": [
            "<class 'list'>\n",
            "[[1, 2, 3], [4, 5, 6], [7, 8, 9]]\n",
            "<class 'numpy.ndarray'>\n",
            "[[1 2 3]\n",
            " [4 5 6]\n",
            " [7 8 9]]\n"
          ]
        }
      ]
    },
    {
      "cell_type": "code",
      "source": [
        "arr[0] #El indexado de los array comienzan desde 0"
      ],
      "metadata": {
        "id": "f85OTueuzPvA",
        "outputId": "1399dd64-22e8-43d0-dc0a-98855ed8e191",
        "colab": {
          "base_uri": "https://localhost:8080/"
        }
      },
      "execution_count": null,
      "outputs": [
        {
          "output_type": "execute_result",
          "data": {
            "text/plain": [
              "1"
            ]
          },
          "metadata": {},
          "execution_count": 18
        }
      ]
    },
    {
      "cell_type": "code",
      "source": [
        "arr[0] + arr[5]"
      ],
      "metadata": {
        "id": "hpaP_NIbzega",
        "outputId": "4935ae39-afad-4b06-b96b-3347f3a94b06",
        "colab": {
          "base_uri": "https://localhost:8080/"
        }
      },
      "execution_count": null,
      "outputs": [
        {
          "output_type": "execute_result",
          "data": {
            "text/plain": [
              "7"
            ]
          },
          "metadata": {},
          "execution_count": 19
        }
      ]
    },
    {
      "cell_type": "code",
      "source": [
        "matriz[0] # Se imprime fila 0"
      ],
      "metadata": {
        "id": "UqSA9W7Nzq1S",
        "outputId": "19c5d782-a501-438f-cbb6-2d1c554cf9e8",
        "colab": {
          "base_uri": "https://localhost:8080/"
        }
      },
      "execution_count": null,
      "outputs": [
        {
          "output_type": "execute_result",
          "data": {
            "text/plain": [
              "array([1, 2, 3])"
            ]
          },
          "metadata": {},
          "execution_count": 21
        }
      ]
    },
    {
      "cell_type": "code",
      "source": [
        "matriz[0, 2] # Imprime a modo de coordenara [fila, columna]"
      ],
      "metadata": {
        "id": "a6zqMtGbz3yp",
        "outputId": "3e4b6b0c-13d4-4291-d346-8fb3c87b8762",
        "colab": {
          "base_uri": "https://localhost:8080/"
        }
      },
      "execution_count": null,
      "outputs": [
        {
          "output_type": "execute_result",
          "data": {
            "text/plain": [
              "3"
            ]
          },
          "metadata": {},
          "execution_count": 22
        }
      ]
    },
    {
      "cell_type": "code",
      "source": [
        "print(arr)\n",
        "print(arr[0:3]) # Se hace un slicing para traer elementos específicos del array [inicio : fin]\n",
        "print(arr[1:4]) # Se puede traer elementos de posiciones especificas\n",
        "print(arr[:5]) # Se puede traer elementos sin especificar el inicio\n",
        "print(arr[3:]) # Se puede traer elementos sin especificar el final\n",
        "print(arr[:]) # Toma todos los elementos\n",
        "print(arr[::3]) # Toma todos los elementos de 3 en 3 desde el index 0"
      ],
      "metadata": {
        "id": "qbknojge0Kev",
        "outputId": "9815ee30-7b59-49b6-8f60-5a0813ff3abc",
        "colab": {
          "base_uri": "https://localhost:8080/"
        }
      },
      "execution_count": null,
      "outputs": [
        {
          "output_type": "stream",
          "name": "stdout",
          "text": [
            "[ 1  2  3  4  5  6  7  8  9 10]\n",
            "[1 2 3]\n",
            "[2 3 4]\n",
            "[1 2 3 4 5]\n",
            "[ 4  5  6  7  8  9 10]\n",
            "[ 1  2  3  4  5  6  7  8  9 10]\n",
            "[ 1  4  7 10]\n"
          ]
        }
      ]
    },
    {
      "cell_type": "code",
      "source": [
        "print(arr[-1]) # Toma el úlimo elemento\n",
        "print(arr[-4]) # Cuenta desde el último elemento hasta el solicitado"
      ],
      "metadata": {
        "id": "WUbcMNAR0hpN",
        "outputId": "3d3598f2-476a-41db-adc9-072eb15f3d21",
        "colab": {
          "base_uri": "https://localhost:8080/"
        }
      },
      "execution_count": null,
      "outputs": [
        {
          "output_type": "stream",
          "name": "stdout",
          "text": [
            "10\n",
            "7\n"
          ]
        }
      ]
    },
    {
      "cell_type": "code",
      "source": [
        "print(matriz)\n",
        "print(type(matriz))\n",
        "\n",
        "print(matriz[1:]) # Toma las posiciones desde la fila 1\n",
        "\n",
        "print(matriz[1:, 1:3]) # Toma las posiciones desde la fila 1 y las columnas entre la 1 y 3\n",
        "print(matriz[1:, 0:2]) # Toma las posiciones desde la fila 1 y las columnas entre la 0 y 2"
      ],
      "metadata": {
        "id": "bj8J2ec32EtU",
        "outputId": "a9d68f35-acb5-4c7e-a9e3-573aa6fadb49",
        "colab": {
          "base_uri": "https://localhost:8080/"
        }
      },
      "execution_count": null,
      "outputs": [
        {
          "output_type": "stream",
          "name": "stdout",
          "text": [
            "[[1 2 3]\n",
            " [4 5 6]\n",
            " [7 8 9]]\n",
            "<class 'numpy.ndarray'>\n",
            "[[4 5 6]\n",
            " [7 8 9]]\n",
            "[[5 6]\n",
            " [8 9]]\n",
            "[[4 5]\n",
            " [7 8]]\n"
          ]
        }
      ]
    },
    {
      "cell_type": "markdown",
      "source": [
        "#Tipos de datos"
      ],
      "metadata": {
        "id": "WvZzwB1s4I0H"
      }
    },
    {
      "cell_type": "code",
      "source": [],
      "metadata": {
        "id": "JHqh1jxD2Xel"
      },
      "execution_count": null,
      "outputs": []
    }
  ]
}