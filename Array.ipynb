{
  "nbformat": 4,
  "nbformat_minor": 0,
  "metadata": {
    "colab": {
      "provenance": [],
      "authorship_tag": "ABX9TyN2WO2MF4sHyP6vF34ZetlB",
      "include_colab_link": true
    },
    "kernelspec": {
      "name": "python3",
      "display_name": "Python 3"
    },
    "language_info": {
      "name": "python"
    }
  },
  "cells": [
    {
      "cell_type": "markdown",
      "metadata": {
        "id": "view-in-github",
        "colab_type": "text"
      },
      "source": [
        "<a href=\"https://colab.research.google.com/github/feracor/pandas_numpy/blob/main/Array.ipynb\" target=\"_parent\"><img src=\"https://colab.research.google.com/assets/colab-badge.svg\" alt=\"Open In Colab\"/></a>"
      ]
    },
    {
      "cell_type": "markdown",
      "source": [
        "#NumPy Array"
      ],
      "metadata": {
        "id": "N9WBYTmc4Cts"
      }
    },
    {
      "cell_type": "code",
      "execution_count": 2,
      "metadata": {
        "id": "5A6nfys0xBfF"
      },
      "outputs": [],
      "source": [
        "import numpy as np"
      ]
    },
    {
      "cell_type": "code",
      "source": [
        "lista = [ 1, 2, 3, 4, 5, 6, 7, 8, 9, 10] # Crear una lista\n",
        "lista"
      ],
      "metadata": {
        "colab": {
          "base_uri": "https://localhost:8080/"
        },
        "id": "ljf5XDILxvI0",
        "outputId": "ede41b85-5de2-420e-9255-86dfe7fe6d16"
      },
      "execution_count": null,
      "outputs": [
        {
          "output_type": "execute_result",
          "data": {
            "text/plain": [
              "[1, 2, 3, 4, 5, 6, 7, 8, 9, 10]"
            ]
          },
          "metadata": {},
          "execution_count": 4
        }
      ]
    },
    {
      "cell_type": "code",
      "source": [
        "arr = np.array(lista) # Convertir lista en array con NumPy\n",
        "print(type(arr))\n",
        "arr"
      ],
      "metadata": {
        "colab": {
          "base_uri": "https://localhost:8080/"
        },
        "id": "fDKubucWx4wX",
        "outputId": "9dd36fef-cc96-411a-c4ce-ee0158fdff9c"
      },
      "execution_count": null,
      "outputs": [
        {
          "output_type": "stream",
          "name": "stdout",
          "text": [
            "<class 'numpy.ndarray'>\n"
          ]
        },
        {
          "output_type": "execute_result",
          "data": {
            "text/plain": [
              "array([ 1,  2,  3,  4,  5,  6,  7,  8,  9, 10])"
            ]
          },
          "metadata": {},
          "execution_count": 10
        }
      ]
    },
    {
      "cell_type": "code",
      "source": [
        "matriz = [[1, 2, 3], [4, 5, 6], [7, 8, 9]] # Crear matriz\n",
        "print(type(matriz))\n",
        "print(matriz)\n",
        "\n",
        "matriz = np.array(matriz) # Convierte la matriz en un array de np\n",
        "print(type(matriz))\n",
        "print(matriz)"
      ],
      "metadata": {
        "colab": {
          "base_uri": "https://localhost:8080/"
        },
        "id": "_nAOqmxZyDoG",
        "outputId": "2b6e540e-045a-44b3-f8d4-8bf90789ef0c"
      },
      "execution_count": null,
      "outputs": [
        {
          "output_type": "stream",
          "name": "stdout",
          "text": [
            "<class 'list'>\n",
            "[[1, 2, 3], [4, 5, 6], [7, 8, 9]]\n",
            "<class 'numpy.ndarray'>\n",
            "[[1 2 3]\n",
            " [4 5 6]\n",
            " [7 8 9]]\n"
          ]
        }
      ]
    },
    {
      "cell_type": "code",
      "source": [
        "arr[0] #El indexado de los array comienzan desde 0"
      ],
      "metadata": {
        "id": "f85OTueuzPvA",
        "outputId": "1399dd64-22e8-43d0-dc0a-98855ed8e191",
        "colab": {
          "base_uri": "https://localhost:8080/"
        }
      },
      "execution_count": null,
      "outputs": [
        {
          "output_type": "execute_result",
          "data": {
            "text/plain": [
              "1"
            ]
          },
          "metadata": {},
          "execution_count": 18
        }
      ]
    },
    {
      "cell_type": "code",
      "source": [
        "arr[0] + arr[5] # Se pueden hacer opertaciones entre elementos cuando se especifíca el index"
      ],
      "metadata": {
        "id": "hpaP_NIbzega",
        "outputId": "4935ae39-afad-4b06-b96b-3347f3a94b06",
        "colab": {
          "base_uri": "https://localhost:8080/"
        }
      },
      "execution_count": null,
      "outputs": [
        {
          "output_type": "execute_result",
          "data": {
            "text/plain": [
              "7"
            ]
          },
          "metadata": {},
          "execution_count": 19
        }
      ]
    },
    {
      "cell_type": "code",
      "source": [
        "matriz[0] # Se imprime fila 0"
      ],
      "metadata": {
        "id": "UqSA9W7Nzq1S",
        "outputId": "19c5d782-a501-438f-cbb6-2d1c554cf9e8",
        "colab": {
          "base_uri": "https://localhost:8080/"
        }
      },
      "execution_count": null,
      "outputs": [
        {
          "output_type": "execute_result",
          "data": {
            "text/plain": [
              "array([1, 2, 3])"
            ]
          },
          "metadata": {},
          "execution_count": 21
        }
      ]
    },
    {
      "cell_type": "code",
      "source": [
        "matriz[0, 2] # Imprime a modo de coordenara [fila, columna]"
      ],
      "metadata": {
        "id": "a6zqMtGbz3yp",
        "outputId": "3e4b6b0c-13d4-4291-d346-8fb3c87b8762",
        "colab": {
          "base_uri": "https://localhost:8080/"
        }
      },
      "execution_count": null,
      "outputs": [
        {
          "output_type": "execute_result",
          "data": {
            "text/plain": [
              "3"
            ]
          },
          "metadata": {},
          "execution_count": 22
        }
      ]
    },
    {
      "cell_type": "code",
      "source": [
        "print(arr)\n",
        "print(arr[0:3]) # Se hace un slicing para traer elementos específicos del array [inicio : fin]\n",
        "print(arr[1:4]) # Se puede traer elementos de posiciones especificas\n",
        "print(arr[:5]) # Se puede traer elementos sin especificar el inicio\n",
        "print(arr[3:]) # Se puede traer elementos sin especificar el final\n",
        "print(arr[:]) # Toma todos los elementos\n",
        "print(arr[::3]) # Toma todos los elementos de 3 en 3 desde el index 0"
      ],
      "metadata": {
        "id": "qbknojge0Kev",
        "outputId": "9815ee30-7b59-49b6-8f60-5a0813ff3abc",
        "colab": {
          "base_uri": "https://localhost:8080/"
        }
      },
      "execution_count": null,
      "outputs": [
        {
          "output_type": "stream",
          "name": "stdout",
          "text": [
            "[ 1  2  3  4  5  6  7  8  9 10]\n",
            "[1 2 3]\n",
            "[2 3 4]\n",
            "[1 2 3 4 5]\n",
            "[ 4  5  6  7  8  9 10]\n",
            "[ 1  2  3  4  5  6  7  8  9 10]\n",
            "[ 1  4  7 10]\n"
          ]
        }
      ]
    },
    {
      "cell_type": "code",
      "source": [
        "print(arr[-1]) # Toma el úlimo elemento\n",
        "print(arr[-4]) # Cuenta desde el último elemento hasta el solicitado"
      ],
      "metadata": {
        "id": "WUbcMNAR0hpN",
        "outputId": "3d3598f2-476a-41db-adc9-072eb15f3d21",
        "colab": {
          "base_uri": "https://localhost:8080/"
        }
      },
      "execution_count": null,
      "outputs": [
        {
          "output_type": "stream",
          "name": "stdout",
          "text": [
            "10\n",
            "7\n"
          ]
        }
      ]
    },
    {
      "cell_type": "code",
      "source": [
        "print(matriz)\n",
        "print(type(matriz))\n",
        "\n",
        "print(matriz[1:]) # Toma las posiciones desde la fila 1\n",
        "\n",
        "print(matriz[1:, 1:3]) # Toma las posiciones desde la fila 1 y las columnas entre la 1 y 3\n",
        "print(matriz[1:, 0:2]) # Toma las posiciones desde la fila 1 y las columnas entre la 0 y 2"
      ],
      "metadata": {
        "id": "bj8J2ec32EtU",
        "outputId": "a9d68f35-acb5-4c7e-a9e3-573aa6fadb49",
        "colab": {
          "base_uri": "https://localhost:8080/"
        }
      },
      "execution_count": null,
      "outputs": [
        {
          "output_type": "stream",
          "name": "stdout",
          "text": [
            "[[1 2 3]\n",
            " [4 5 6]\n",
            " [7 8 9]]\n",
            "<class 'numpy.ndarray'>\n",
            "[[4 5 6]\n",
            " [7 8 9]]\n",
            "[[5 6]\n",
            " [8 9]]\n",
            "[[4 5]\n",
            " [7 8]]\n"
          ]
        }
      ]
    },
    {
      "cell_type": "markdown",
      "source": [
        "#Tipos de datos"
      ],
      "metadata": {
        "id": "WvZzwB1s4I0H"
      }
    },
    {
      "cell_type": "code",
      "source": [
        "arr_dato  = np.array([1, 2, 3, 4, 5, 6])\n",
        "arr_dato.dtype # Muestra el tipo de dato dentro del array"
      ],
      "metadata": {
        "id": "JHqh1jxD2Xel",
        "outputId": "c6f02a5d-4446-4ef2-bf26-bf306aee7792",
        "colab": {
          "base_uri": "https://localhost:8080/"
        }
      },
      "execution_count": 20,
      "outputs": [
        {
          "output_type": "execute_result",
          "data": {
            "text/plain": [
              "dtype('int64')"
            ]
          },
          "metadata": {},
          "execution_count": 20
        }
      ]
    },
    {
      "cell_type": "code",
      "source": [
        "arr_dato  = np.array([1, 2, 3, 4, 5, 6], dtype = 'float64') # Se puede definir el tipo de dato del objeto array para que sea compatible con las tareas que queremos realizar\n",
        "print(arr_dato)\n",
        "arr_dato.dtype # Muestra el tipo de dato dentro del array"
      ],
      "metadata": {
        "id": "3FLrzltOUeLX",
        "outputId": "ebfe408c-1af3-4189-83a8-5ffc490bb5e7",
        "colab": {
          "base_uri": "https://localhost:8080/"
        }
      },
      "execution_count": 21,
      "outputs": [
        {
          "output_type": "stream",
          "name": "stdout",
          "text": [
            "[1. 2. 3. 4. 5. 6.]\n"
          ]
        },
        {
          "output_type": "execute_result",
          "data": {
            "text/plain": [
              "dtype('float64')"
            ]
          },
          "metadata": {},
          "execution_count": 21
        }
      ]
    },
    {
      "cell_type": "code",
      "source": [
        "arr_dato  = np.array([1, 2, 3, 4, 5, 6]) # Por defecto crea un array de tipo int64\n",
        "print(arr_dato.dtype)\n",
        "arr_dato = (arr_dato.astype(np.float64)) # Si el array ya viene definido con un tipo de dato, es posible hacer el casteo con el método .astype() y definir el tipo de dato que se desea\n",
        "print(arr_dato.dtype)"
      ],
      "metadata": {
        "id": "80iehKNMVCY-",
        "outputId": "66c9a21e-3918-4ef8-a07f-36fb0c35ba80",
        "colab": {
          "base_uri": "https://localhost:8080/"
        }
      },
      "execution_count": 27,
      "outputs": [
        {
          "output_type": "stream",
          "name": "stdout",
          "text": [
            "int64\n",
            "float64\n"
          ]
        }
      ]
    },
    {
      "cell_type": "code",
      "source": [
        "arr = np.array([0, 1, 2, -1, -5])\n",
        "arr = arr.astype(np.bool_) # Al convertir el tipo de dato a booleano, este interpreta el 0 como False y qualquier otro valor como True\n",
        "arr"
      ],
      "metadata": {
        "id": "T0bynvo_VfjI",
        "outputId": "2b2a3ed7-f036-4c52-c209-6b23f60538de",
        "colab": {
          "base_uri": "https://localhost:8080/"
        }
      },
      "execution_count": 33,
      "outputs": [
        {
          "output_type": "execute_result",
          "data": {
            "text/plain": [
              "array([False,  True,  True,  True,  True])"
            ]
          },
          "metadata": {},
          "execution_count": 33
        }
      ]
    },
    {
      "cell_type": "code",
      "source": [
        "arr = np.array([0, 1, 2, -1, -5])\n",
        "arr = arr.astype(np.string_) # Al convertir el tipo de dato a string, convierte los valores númericos a carácteres de tipo string\n",
        "arr"
      ],
      "metadata": {
        "id": "yu6_41QOX81a",
        "outputId": "d862a1ab-7fa5-4e9d-8b7a-3a45b087c112",
        "colab": {
          "base_uri": "https://localhost:8080/"
        }
      },
      "execution_count": 44,
      "outputs": [
        {
          "output_type": "execute_result",
          "data": {
            "text/plain": [
              "array([b'0', b'1', b'2', b'-1', b'-5'], dtype='|S21')"
            ]
          },
          "metadata": {},
          "execution_count": 44
        }
      ]
    },
    {
      "cell_type": "code",
      "source": [
        "arr = np.array(['0', '1', '2', '-1', '-5'])\n",
        "arr = arr.astype(np.int8) # Conversión de string a int8\n",
        "arr"
      ],
      "metadata": {
        "id": "5ER-nFeqYvB_",
        "outputId": "0eb66c25-e400-4728-98e7-7f36d04d986a",
        "colab": {
          "base_uri": "https://localhost:8080/"
        }
      },
      "execution_count": 49,
      "outputs": [
        {
          "output_type": "execute_result",
          "data": {
            "text/plain": [
              "array([ 0,  1,  2, -1, -5], dtype=int8)"
            ]
          },
          "metadata": {},
          "execution_count": 49
        }
      ]
    },
    {
      "cell_type": "code",
      "source": [
        "'''EN LOS ARRAY PUEDE HABER UN ÚNICO TIPO DE DATO'''\n",
        "arr = np.array(['hola','0', '1', '2', '-1', '-5'])\n",
        "arr = arr.astype(np.int8) # Conversión de string a int8 que generar error ya que no se pueden convertir carácteres alfabéticos en númericos\n",
        "arr"
      ],
      "metadata": {
        "id": "YlFvBxE-Zmh1",
        "outputId": "c44ad3e9-d59f-44f3-ffdc-ffe0a38de3b2",
        "colab": {
          "base_uri": "https://localhost:8080/",
          "height": 198
        }
      },
      "execution_count": 56,
      "outputs": [
        {
          "output_type": "error",
          "ename": "ValueError",
          "evalue": "invalid literal for int() with base 10: 'hola'",
          "traceback": [
            "\u001b[0;31m---------------------------------------------------------------------------\u001b[0m",
            "\u001b[0;31mValueError\u001b[0m                                Traceback (most recent call last)",
            "\u001b[0;32m<ipython-input-56-4536ddabc87e>\u001b[0m in \u001b[0;36m<cell line: 3>\u001b[0;34m()\u001b[0m\n\u001b[1;32m      1\u001b[0m \u001b[0;34m'''EN LOS ARRAY PUEDE HABER UN ÚNICO TIPO DE DATO'''\u001b[0m\u001b[0;34m\u001b[0m\u001b[0;34m\u001b[0m\u001b[0m\n\u001b[1;32m      2\u001b[0m \u001b[0marr\u001b[0m \u001b[0;34m=\u001b[0m \u001b[0mnp\u001b[0m\u001b[0;34m.\u001b[0m\u001b[0marray\u001b[0m\u001b[0;34m(\u001b[0m\u001b[0;34m[\u001b[0m\u001b[0;34m'hola'\u001b[0m\u001b[0;34m,\u001b[0m\u001b[0;34m'0'\u001b[0m\u001b[0;34m,\u001b[0m \u001b[0;34m'1'\u001b[0m\u001b[0;34m,\u001b[0m \u001b[0;34m'2'\u001b[0m\u001b[0;34m,\u001b[0m \u001b[0;34m'-1'\u001b[0m\u001b[0;34m,\u001b[0m \u001b[0;34m'-5'\u001b[0m\u001b[0;34m]\u001b[0m\u001b[0;34m)\u001b[0m\u001b[0;34m\u001b[0m\u001b[0;34m\u001b[0m\u001b[0m\n\u001b[0;32m----> 3\u001b[0;31m \u001b[0marr\u001b[0m \u001b[0;34m=\u001b[0m \u001b[0marr\u001b[0m\u001b[0;34m.\u001b[0m\u001b[0mastype\u001b[0m\u001b[0;34m(\u001b[0m\u001b[0mnp\u001b[0m\u001b[0;34m.\u001b[0m\u001b[0mint8\u001b[0m\u001b[0;34m)\u001b[0m \u001b[0;31m# Conversión de string a int8 que generar error ya que no se pueden convertir carácteres alfabéticos en númericos\u001b[0m\u001b[0;34m\u001b[0m\u001b[0;34m\u001b[0m\u001b[0m\n\u001b[0m\u001b[1;32m      4\u001b[0m \u001b[0marr\u001b[0m\u001b[0;34m\u001b[0m\u001b[0;34m\u001b[0m\u001b[0m\n",
            "\u001b[0;31mValueError\u001b[0m: invalid literal for int() with base 10: 'hola'"
          ]
        }
      ]
    },
    {
      "cell_type": "code",
      "source": [
        "a = np.arange(10) # Método que crea un arreglo dentro de un rango dado. Comienza desde 0 hasta el ingresado menos uno\n",
        "a"
      ],
      "metadata": {
        "id": "U1qJ7IfBbayh",
        "outputId": "e2526020-7be5-4631-c430-438fa5b013bc",
        "colab": {
          "base_uri": "https://localhost:8080/"
        }
      },
      "execution_count": 52,
      "outputs": [
        {
          "output_type": "execute_result",
          "data": {
            "text/plain": [
              "array([0, 1, 2, 3, 4, 5, 6, 7, 8, 9])"
            ]
          },
          "metadata": {},
          "execution_count": 52
        }
      ]
    },
    {
      "cell_type": "code",
      "source": [
        "b = np.arange(3, 10) # Crea un arreglo dentro de un rango dado hasta el límite superior menos uno\n",
        "b"
      ],
      "metadata": {
        "id": "_8SgfEyacRCL",
        "outputId": "84ec52ed-9641-4bf3-8996-cf0f8fecffa4",
        "colab": {
          "base_uri": "https://localhost:8080/"
        }
      },
      "execution_count": 54,
      "outputs": [
        {
          "output_type": "execute_result",
          "data": {
            "text/plain": [
              "array([3, 4, 5, 6, 7, 8, 9])"
            ]
          },
          "metadata": {},
          "execution_count": 54
        }
      ]
    },
    {
      "cell_type": "code",
      "source": [
        "arr = np.arange(-2, -16, -1) # Crea un arreglo dentro de un rango, y hace un decremento de -1 hasta llegar al límite\n",
        "print(arr)"
      ],
      "metadata": {
        "id": "11s-87e0cj03",
        "outputId": "49d58152-0b4f-4fb5-96b2-13605268bc5f",
        "colab": {
          "base_uri": "https://localhost:8080/"
        }
      },
      "execution_count": 55,
      "outputs": [
        {
          "output_type": "stream",
          "name": "stdout",
          "text": [
            "[ -2  -3  -4  -5  -6  -7  -8  -9 -10 -11 -12 -13 -14 -15]\n"
          ]
        }
      ]
    },
    {
      "cell_type": "markdown",
      "source": [
        "#Dimensiones"
      ],
      "metadata": {
        "id": "q-IeWJLDd2jK"
      }
    },
    {
      "cell_type": "code",
      "source": [],
      "metadata": {
        "id": "PxOvC09ldfyM"
      },
      "execution_count": null,
      "outputs": []
    }
  ]
}