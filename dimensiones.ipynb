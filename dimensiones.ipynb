{
  "nbformat": 4,
  "nbformat_minor": 0,
  "metadata": {
    "colab": {
      "provenance": [],
      "authorship_tag": "ABX9TyN5jlFGY0VvWb6oP8odKinP",
      "include_colab_link": true
    },
    "kernelspec": {
      "name": "python3",
      "display_name": "Python 3"
    },
    "language_info": {
      "name": "python"
    }
  },
  "cells": [
    {
      "cell_type": "markdown",
      "metadata": {
        "id": "view-in-github",
        "colab_type": "text"
      },
      "source": [
        "<a href=\"https://colab.research.google.com/github/feracor/pandas_numpy/blob/main/dimensiones.ipynb\" target=\"_parent\"><img src=\"https://colab.research.google.com/assets/colab-badge.svg\" alt=\"Open In Colab\"/></a>"
      ]
    },
    {
      "cell_type": "markdown",
      "source": [
        "#Dimensiones"
      ],
      "metadata": {
        "id": "IPXaJ_7kfHT9"
      }
    },
    {
      "cell_type": "code",
      "execution_count": 1,
      "metadata": {
        "id": "3QL1AlVwe_N3"
      },
      "outputs": [],
      "source": [
        "import numpy as np"
      ]
    },
    {
      "cell_type": "code",
      "source": [
        "scalar = np.array(12)\n",
        "print(scalar)\n",
        "scalar.ndim"
      ],
      "metadata": {
        "colab": {
          "base_uri": "https://localhost:8080/"
        },
        "id": "9U5BT52tfFnj",
        "outputId": "8c6c8663-f682-4af3-d531-ecacdfeaad49"
      },
      "execution_count": 2,
      "outputs": [
        {
          "output_type": "stream",
          "name": "stdout",
          "text": [
            "12\n"
          ]
        },
        {
          "output_type": "execute_result",
          "data": {
            "text/plain": [
              "0"
            ]
          },
          "metadata": {},
          "execution_count": 2
        }
      ]
    },
    {
      "cell_type": "code",
      "source": [
        "vector = np.array([1, 2, 3, 4])\n",
        "print(vector)\n",
        "vector.ndim"
      ],
      "metadata": {
        "colab": {
          "base_uri": "https://localhost:8080/"
        },
        "id": "5SFVpFiIfXMQ",
        "outputId": "2e687452-e8ff-4048-c8b0-4f6e1e492990"
      },
      "execution_count": 3,
      "outputs": [
        {
          "output_type": "stream",
          "name": "stdout",
          "text": [
            "[1 2 3 4]\n"
          ]
        },
        {
          "output_type": "execute_result",
          "data": {
            "text/plain": [
              "1"
            ]
          },
          "metadata": {},
          "execution_count": 3
        }
      ]
    },
    {
      "cell_type": "code",
      "source": [
        "matriz = np.array([[1, 2, 3],[4, 5, 6], [7, 8, 9]])\n",
        "print(matriz)\n",
        "matriz.ndim"
      ],
      "metadata": {
        "colab": {
          "base_uri": "https://localhost:8080/"
        },
        "id": "7d7pHLsWflHz",
        "outputId": "72d7e91d-458d-490e-eebd-9d1b2090915e"
      },
      "execution_count": 4,
      "outputs": [
        {
          "output_type": "stream",
          "name": "stdout",
          "text": [
            "[[1 2 3]\n",
            " [4 5 6]\n",
            " [7 8 9]]\n"
          ]
        },
        {
          "output_type": "execute_result",
          "data": {
            "text/plain": [
              "2"
            ]
          },
          "metadata": {},
          "execution_count": 4
        }
      ]
    },
    {
      "cell_type": "code",
      "source": [
        "tensor = np.array([[[1, 2, 3],[4, 5, 6], [7, 8, 9]],[[10, 11, 12], [13, 14, 15], [16, 17, 18]]])\n",
        "print(tensor)\n",
        "tensor.ndim"
      ],
      "metadata": {
        "id": "9J7iB8H1f0th",
        "outputId": "8b85084f-4e28-48d4-80d2-3f1cced3b598",
        "colab": {
          "base_uri": "https://localhost:8080/"
        }
      },
      "execution_count": 6,
      "outputs": [
        {
          "output_type": "stream",
          "name": "stdout",
          "text": [
            "[[[ 1  2  3]\n",
            "  [ 4  5  6]\n",
            "  [ 7  8  9]]\n",
            "\n",
            " [[10 11 12]\n",
            "  [13 14 15]\n",
            "  [16 17 18]]]\n"
          ]
        },
        {
          "output_type": "execute_result",
          "data": {
            "text/plain": [
              "3"
            ]
          },
          "metadata": {},
          "execution_count": 6
        }
      ]
    },
    {
      "cell_type": "code",
      "source": [
        "tensor4 = np.array([[[[1, 2, 3],[4, 5, 6], [7, 8, 9]],[[10, 11, 12], [13, 14, 15], [16, 17, 18]]],[[[1, 2, 3],[4, 5, 6], [7, 8, 9]],[[10, 11, 12], [13, 14, 15], [16, 17, 18]]]])\n",
        "print(tensor4)\n",
        "tensor4.ndim"
      ],
      "metadata": {
        "id": "rxzFIBCjhyLt",
        "outputId": "dce07820-d4b6-4a33-c996-c36ade5a1f49",
        "colab": {
          "base_uri": "https://localhost:8080/"
        }
      },
      "execution_count": 7,
      "outputs": [
        {
          "output_type": "stream",
          "name": "stdout",
          "text": [
            "[[[[ 1  2  3]\n",
            "   [ 4  5  6]\n",
            "   [ 7  8  9]]\n",
            "\n",
            "  [[10 11 12]\n",
            "   [13 14 15]\n",
            "   [16 17 18]]]\n",
            "\n",
            "\n",
            " [[[ 1  2  3]\n",
            "   [ 4  5  6]\n",
            "   [ 7  8  9]]\n",
            "\n",
            "  [[10 11 12]\n",
            "   [13 14 15]\n",
            "   [16 17 18]]]]\n"
          ]
        },
        {
          "output_type": "execute_result",
          "data": {
            "text/plain": [
              "4"
            ]
          },
          "metadata": {},
          "execution_count": 7
        }
      ]
    },
    {
      "cell_type": "code",
      "source": [
        "#Agregar dimensiones\n",
        "vector = np.array([1, 2, 3, 4], ndmin = 10) # Crea un tensor con dimensiones específicas dentro del parámetro ndmin=\n",
        "print(vector)\n",
        "vector.ndim"
      ],
      "metadata": {
        "id": "Zotv_35liAYe",
        "outputId": "d1585223-d05b-4268-8aab-2db7e32bc9db",
        "colab": {
          "base_uri": "https://localhost:8080/"
        }
      },
      "execution_count": 8,
      "outputs": [
        {
          "output_type": "stream",
          "name": "stdout",
          "text": [
            "[[[[[[[[[[1 2 3 4]]]]]]]]]]\n"
          ]
        },
        {
          "output_type": "execute_result",
          "data": {
            "text/plain": [
              "10"
            ]
          },
          "metadata": {},
          "execution_count": 8
        }
      ]
    },
    {
      "cell_type": "code",
      "source": [
        "expand = np.expand_dims(np.array([1, 2, 3]), axis=0) # Expande el array en axis=0, que es a nivel de filas. Se convierte de vector a matriz\n",
        "print(expand)\n",
        "print(expand.ndim)\n",
        "\n",
        "expand2 = np.expand_dims(np.array([1, 2, 3]), axis=1) # Expande el array en axis=1, que es a nivel de columnas. Se convierte de vector a matriz\n",
        "print(expand2)\n",
        "print(expand2.ndim)"
      ],
      "metadata": {
        "id": "5FmJnI7liger",
        "outputId": "2dfecd89-40a6-43d9-86d1-1ff5a4e37cd4",
        "colab": {
          "base_uri": "https://localhost:8080/"
        }
      },
      "execution_count": 16,
      "outputs": [
        {
          "output_type": "stream",
          "name": "stdout",
          "text": [
            "[[1 2 3]]\n",
            "2\n",
            "[[1]\n",
            " [2]\n",
            " [3]]\n",
            "2\n"
          ]
        }
      ]
    },
    {
      "cell_type": "code",
      "source": [
        "#Reducir dimensiones\n",
        "vector = np.array([1, 2, 3, 4], ndmin = 10)\n",
        "print(vector, vector.ndim)\n",
        "\n",
        "vector_2 = np.squeeze(vector) # Médoto squeeze elimina las dimensiones que no se usan\n",
        "print(vector_2, vector_2.ndim)"
      ],
      "metadata": {
        "id": "Vc75aHnbjKsJ",
        "outputId": "5f6ca880-7a61-4fb2-b585-77f0d2db0988",
        "colab": {
          "base_uri": "https://localhost:8080/"
        }
      },
      "execution_count": 18,
      "outputs": [
        {
          "output_type": "stream",
          "name": "stdout",
          "text": [
            "[[[[[[[[[[1 2 3 4]]]]]]]]]] 10\n",
            "[1 2 3 4] 1\n"
          ]
        }
      ]
    },
    {
      "cell_type": "code",
      "source": [
        "tensor = np.array([[1,2,3],[4,5,3],[6,7,8]], ndmin=5) # Crea tensor de 5 dimensiones\n",
        "print(tensor, tensor.ndim)\n",
        "tensor = np.squeeze(tensor) # Tensor se reduce a 3 dimensiones, que son las que se consideran útiles\n",
        "print(tensor, tensor.ndim)"
      ],
      "metadata": {
        "id": "XI9DAHU-k5tQ",
        "outputId": "61ecb47c-a264-4e60-9a37-046b88443b04",
        "colab": {
          "base_uri": "https://localhost:8080/"
        }
      },
      "execution_count": 28,
      "outputs": [
        {
          "output_type": "stream",
          "name": "stdout",
          "text": [
            "[[[[[1 2 3]\n",
            "    [4 5 3]\n",
            "    [6 7 8]]]]] 5\n",
            "[[1 2 3]\n",
            " [4 5 3]\n",
            " [6 7 8]] 2\n"
          ]
        }
      ]
    },
    {
      "cell_type": "markdown",
      "source": [
        "#Creando arrays desde NumPy"
      ],
      "metadata": {
        "id": "DvcCVqmCmpNN"
      }
    },
    {
      "cell_type": "code",
      "source": [
        "a = np.arange(10) # Método que crea un arreglo dentro de un rango dado. Comienza desde 0 hasta el ingresado menos uno\n",
        "a"
      ],
      "metadata": {
        "id": "RL3SS_RWlz6a",
        "outputId": "3e6f2485-f2bf-4a7a-f325-f47a9aa38c72",
        "colab": {
          "base_uri": "https://localhost:8080/"
        }
      },
      "execution_count": 32,
      "outputs": [
        {
          "output_type": "execute_result",
          "data": {
            "text/plain": [
              "array([0, 1, 2, 3, 4, 5, 6, 7, 8, 9])"
            ]
          },
          "metadata": {},
          "execution_count": 32
        }
      ]
    },
    {
      "cell_type": "code",
      "source": [
        "b = np.arange(3, 10) # Crea un arreglo dentro de un rango dado hasta el límite superior menos uno\n",
        "b"
      ],
      "metadata": {
        "id": "_CLuAySjm_Qe",
        "outputId": "a22bfb3e-7805-4061-ed6e-f7575137e066",
        "colab": {
          "base_uri": "https://localhost:8080/"
        }
      },
      "execution_count": 30,
      "outputs": [
        {
          "output_type": "execute_result",
          "data": {
            "text/plain": [
              "array([3, 4, 5, 6, 7, 8, 9])"
            ]
          },
          "metadata": {},
          "execution_count": 30
        }
      ]
    },
    {
      "cell_type": "code",
      "source": [
        "c = np.arange(-2, -16, -1) # Crea un arreglo dentro de un rango, y hace un decremento de -1 hasta llegar al límite\n",
        "c"
      ],
      "metadata": {
        "id": "rtMdxaAhnFnO",
        "outputId": "540c8fc7-b2c2-4940-f385-11b42edfb403",
        "colab": {
          "base_uri": "https://localhost:8080/"
        }
      },
      "execution_count": 33,
      "outputs": [
        {
          "output_type": "execute_result",
          "data": {
            "text/plain": [
              "array([ -2,  -3,  -4,  -5,  -6,  -7,  -8,  -9, -10, -11, -12, -13, -14,\n",
              "       -15])"
            ]
          },
          "metadata": {},
          "execution_count": 33
        }
      ]
    },
    {
      "cell_type": "code",
      "source": [
        "d = np.arange(2, 15, 2) # Crea un array que salta de dos en dos\n",
        "d"
      ],
      "metadata": {
        "id": "4A1rHfMXnGrE",
        "outputId": "e578176a-6598-4956-e988-1f61c89cc830",
        "colab": {
          "base_uri": "https://localhost:8080/"
        }
      },
      "execution_count": 36,
      "outputs": [
        {
          "output_type": "execute_result",
          "data": {
            "text/plain": [
              "array([ 2,  4,  6,  8, 10, 12, 14])"
            ]
          },
          "metadata": {},
          "execution_count": 36
        }
      ]
    },
    {
      "cell_type": "code",
      "source": [
        "np.zeros(3) #Crear array con ceros"
      ],
      "metadata": {
        "id": "64tSym5InbPV",
        "outputId": "43de706d-4597-419f-c80c-b7be8c8c66b5",
        "colab": {
          "base_uri": "https://localhost:8080/"
        }
      },
      "execution_count": 37,
      "outputs": [
        {
          "output_type": "execute_result",
          "data": {
            "text/plain": [
              "array([0., 0., 0.])"
            ]
          },
          "metadata": {},
          "execution_count": 37
        }
      ]
    },
    {
      "cell_type": "code",
      "source": [
        "np.zeros([10,10]) #Crear array con ceros"
      ],
      "metadata": {
        "id": "VxjkyMozouU0",
        "outputId": "428c9f87-5d29-4bd1-f5f1-a6ecf847c99f",
        "colab": {
          "base_uri": "https://localhost:8080/"
        }
      },
      "execution_count": 38,
      "outputs": [
        {
          "output_type": "execute_result",
          "data": {
            "text/plain": [
              "array([[0., 0., 0., 0., 0., 0., 0., 0., 0., 0.],\n",
              "       [0., 0., 0., 0., 0., 0., 0., 0., 0., 0.],\n",
              "       [0., 0., 0., 0., 0., 0., 0., 0., 0., 0.],\n",
              "       [0., 0., 0., 0., 0., 0., 0., 0., 0., 0.],\n",
              "       [0., 0., 0., 0., 0., 0., 0., 0., 0., 0.],\n",
              "       [0., 0., 0., 0., 0., 0., 0., 0., 0., 0.],\n",
              "       [0., 0., 0., 0., 0., 0., 0., 0., 0., 0.],\n",
              "       [0., 0., 0., 0., 0., 0., 0., 0., 0., 0.],\n",
              "       [0., 0., 0., 0., 0., 0., 0., 0., 0., 0.],\n",
              "       [0., 0., 0., 0., 0., 0., 0., 0., 0., 0.]])"
            ]
          },
          "metadata": {},
          "execution_count": 38
        }
      ]
    },
    {
      "cell_type": "code",
      "source": [
        "np.ones([10,10]) #Crear array con unos"
      ],
      "metadata": {
        "id": "QKYMbmS7o5x2",
        "outputId": "0b6bce58-33c3-4a86-bc78-b02ac4e032ee",
        "colab": {
          "base_uri": "https://localhost:8080/"
        }
      },
      "execution_count": 39,
      "outputs": [
        {
          "output_type": "execute_result",
          "data": {
            "text/plain": [
              "array([[1., 1., 1., 1., 1., 1., 1., 1., 1., 1.],\n",
              "       [1., 1., 1., 1., 1., 1., 1., 1., 1., 1.],\n",
              "       [1., 1., 1., 1., 1., 1., 1., 1., 1., 1.],\n",
              "       [1., 1., 1., 1., 1., 1., 1., 1., 1., 1.],\n",
              "       [1., 1., 1., 1., 1., 1., 1., 1., 1., 1.],\n",
              "       [1., 1., 1., 1., 1., 1., 1., 1., 1., 1.],\n",
              "       [1., 1., 1., 1., 1., 1., 1., 1., 1., 1.],\n",
              "       [1., 1., 1., 1., 1., 1., 1., 1., 1., 1.],\n",
              "       [1., 1., 1., 1., 1., 1., 1., 1., 1., 1.],\n",
              "       [1., 1., 1., 1., 1., 1., 1., 1., 1., 1.]])"
            ]
          },
          "metadata": {},
          "execution_count": 39
        }
      ]
    },
    {
      "cell_type": "code",
      "source": [
        "np.linspace(0,10,10) #Crea array con valor de inicio, valor límite, cuántos datos se van a generar de manera normalizada"
      ],
      "metadata": {
        "id": "p-3eqeatpDXU",
        "outputId": "5f4751d5-8b5a-4658-e5c7-46fd2b20637b",
        "colab": {
          "base_uri": "https://localhost:8080/"
        }
      },
      "execution_count": 45,
      "outputs": [
        {
          "output_type": "execute_result",
          "data": {
            "text/plain": [
              "array([ 0.        ,  1.11111111,  2.22222222,  3.33333333,  4.44444444,\n",
              "        5.55555556,  6.66666667,  7.77777778,  8.88888889, 10.        ])"
            ]
          },
          "metadata": {},
          "execution_count": 45
        }
      ]
    },
    {
      "cell_type": "code",
      "source": [
        "np.linspace(0,10) #Crea array con valor de inicio, valor límite, cuántos datos se van a generar de manera normalizada"
      ],
      "metadata": {
        "id": "P_ezrRSNpVkw",
        "outputId": "5dfdc202-a46b-46d8-e9ef-375693fb1530",
        "colab": {
          "base_uri": "https://localhost:8080/"
        }
      },
      "execution_count": 46,
      "outputs": [
        {
          "output_type": "execute_result",
          "data": {
            "text/plain": [
              "array([ 0.        ,  0.20408163,  0.40816327,  0.6122449 ,  0.81632653,\n",
              "        1.02040816,  1.2244898 ,  1.42857143,  1.63265306,  1.83673469,\n",
              "        2.04081633,  2.24489796,  2.44897959,  2.65306122,  2.85714286,\n",
              "        3.06122449,  3.26530612,  3.46938776,  3.67346939,  3.87755102,\n",
              "        4.08163265,  4.28571429,  4.48979592,  4.69387755,  4.89795918,\n",
              "        5.10204082,  5.30612245,  5.51020408,  5.71428571,  5.91836735,\n",
              "        6.12244898,  6.32653061,  6.53061224,  6.73469388,  6.93877551,\n",
              "        7.14285714,  7.34693878,  7.55102041,  7.75510204,  7.95918367,\n",
              "        8.16326531,  8.36734694,  8.57142857,  8.7755102 ,  8.97959184,\n",
              "        9.18367347,  9.3877551 ,  9.59183673,  9.79591837, 10.        ])"
            ]
          },
          "metadata": {},
          "execution_count": 46
        }
      ]
    },
    {
      "cell_type": "code",
      "source": [
        "np.eye(4) #Crea una matriz diagonal de dimesiones dadas"
      ],
      "metadata": {
        "id": "6if5RNa0pxXr",
        "outputId": "e6caee19-66cf-4156-9563-00e0d03dbf15",
        "colab": {
          "base_uri": "https://localhost:8080/"
        }
      },
      "execution_count": 47,
      "outputs": [
        {
          "output_type": "execute_result",
          "data": {
            "text/plain": [
              "array([[1., 0., 0., 0.],\n",
              "       [0., 1., 0., 0.],\n",
              "       [0., 0., 1., 0.],\n",
              "       [0., 0., 0., 1.]])"
            ]
          },
          "metadata": {},
          "execution_count": 47
        }
      ]
    },
    {
      "cell_type": "code",
      "source": [
        "np.eye(10) #Crea una matriz diagonal de dimesiones dadas"
      ],
      "metadata": {
        "id": "Av9uHY8tqF2-",
        "outputId": "52d66c86-8a1b-4d8f-9398-50e916e7c14f",
        "colab": {
          "base_uri": "https://localhost:8080/"
        }
      },
      "execution_count": 48,
      "outputs": [
        {
          "output_type": "execute_result",
          "data": {
            "text/plain": [
              "array([[1., 0., 0., 0., 0., 0., 0., 0., 0., 0.],\n",
              "       [0., 1., 0., 0., 0., 0., 0., 0., 0., 0.],\n",
              "       [0., 0., 1., 0., 0., 0., 0., 0., 0., 0.],\n",
              "       [0., 0., 0., 1., 0., 0., 0., 0., 0., 0.],\n",
              "       [0., 0., 0., 0., 1., 0., 0., 0., 0., 0.],\n",
              "       [0., 0., 0., 0., 0., 1., 0., 0., 0., 0.],\n",
              "       [0., 0., 0., 0., 0., 0., 1., 0., 0., 0.],\n",
              "       [0., 0., 0., 0., 0., 0., 0., 1., 0., 0.],\n",
              "       [0., 0., 0., 0., 0., 0., 0., 0., 1., 0.],\n",
              "       [0., 0., 0., 0., 0., 0., 0., 0., 0., 1.]])"
            ]
          },
          "metadata": {},
          "execution_count": 48
        }
      ]
    },
    {
      "cell_type": "code",
      "source": [
        "np.random.rand() #Genera un array con un valor aleatorio entre 0 y 1"
      ],
      "metadata": {
        "id": "mNIOvQ0EqJqp",
        "outputId": "8ac49368-d7f1-418f-a7e4-1b340970a80f",
        "colab": {
          "base_uri": "https://localhost:8080/"
        }
      },
      "execution_count": 50,
      "outputs": [
        {
          "output_type": "execute_result",
          "data": {
            "text/plain": [
              "0.03566557159615191"
            ]
          },
          "metadata": {},
          "execution_count": 50
        }
      ]
    },
    {
      "cell_type": "code",
      "source": [
        "np.random.rand(4,3) #Genera un array con un valores aleatorio entre 0 y 1 de dimensiones dadas"
      ],
      "metadata": {
        "id": "pjHSuu5-qN9i",
        "outputId": "de66e8e7-eaae-49c1-de45-967f6c58c1a4",
        "colab": {
          "base_uri": "https://localhost:8080/"
        }
      },
      "execution_count": 53,
      "outputs": [
        {
          "output_type": "execute_result",
          "data": {
            "text/plain": [
              "array([[0.89462056, 0.29063108, 0.91570012],\n",
              "       [0.59131316, 0.25629309, 0.84969637],\n",
              "       [0.34700841, 0.40925723, 0.55382257],\n",
              "       [0.83820439, 0.8886847 , 0.71911612]])"
            ]
          },
          "metadata": {},
          "execution_count": 53
        }
      ]
    },
    {
      "cell_type": "code",
      "source": [
        "np.random.randint(1,15) # Genera un entero con un valor aleatorio dento de los límites dados"
      ],
      "metadata": {
        "id": "mcP5gqIKqXzj",
        "outputId": "7e77c981-0bce-4c69-99a4-2a8c06174332",
        "colab": {
          "base_uri": "https://localhost:8080/"
        }
      },
      "execution_count": 62,
      "outputs": [
        {
          "output_type": "execute_result",
          "data": {
            "text/plain": [
              "4"
            ]
          },
          "metadata": {},
          "execution_count": 62
        }
      ]
    },
    {
      "cell_type": "code",
      "source": [
        "np.random.randint(1,15, (10, 10)) #Crea un array y genera valores entero con un valor aleatorio dento de los límites dados en una estructura definida"
      ],
      "metadata": {
        "id": "2lkNKXnkqrWw",
        "outputId": "b6e33fde-77d0-47e5-a1e9-346b3371c836",
        "colab": {
          "base_uri": "https://localhost:8080/"
        }
      },
      "execution_count": 65,
      "outputs": [
        {
          "output_type": "execute_result",
          "data": {
            "text/plain": [
              "array([[ 1, 14,  6,  7,  4,  8, 10,  1,  1,  5],\n",
              "       [13, 12,  8,  8,  2,  7, 12, 11,  3, 14],\n",
              "       [10,  8,  5,  1,  7,  3, 13,  1,  3,  3],\n",
              "       [ 7, 14,  7,  9,  2,  1,  2, 12,  8, 11],\n",
              "       [ 2, 13, 10,  9,  9, 13, 10, 14, 14, 11],\n",
              "       [ 8,  3,  6,  4,  4, 14,  5,  2,  6, 13],\n",
              "       [ 4,  2,  5,  4,  2,  5, 11, 10,  6,  2],\n",
              "       [ 3,  3, 14,  7,  6,  4,  6,  2, 10,  6],\n",
              "       [10,  6, 12,  5, 13,  6, 12,  5, 13, 11],\n",
              "       [ 6,  5,  9, 14,  2,  1, 13,  9, 11, 14]])"
            ]
          },
          "metadata": {},
          "execution_count": 65
        }
      ]
    },
    {
      "cell_type": "code",
      "source": [
        "np.random.randint(1,15, (3, 2, 4))#Crea un tensor y genera valores entero con un valor aleatorio dento de los límites dados en una estructura definida"
      ],
      "metadata": {
        "id": "L9PRbc8FriuM",
        "outputId": "892be3dd-08f7-4a45-a25d-4d40fdff464a",
        "colab": {
          "base_uri": "https://localhost:8080/"
        }
      },
      "execution_count": 69,
      "outputs": [
        {
          "output_type": "execute_result",
          "data": {
            "text/plain": [
              "array([[[ 3,  6,  9,  1],\n",
              "        [ 5, 10,  6,  7]],\n",
              "\n",
              "       [[13,  4,  3,  2],\n",
              "        [ 8,  1,  1,  5]],\n",
              "\n",
              "       [[ 2,  5,  3,  5],\n",
              "        [ 4, 10,  9, 11]]])"
            ]
          },
          "metadata": {},
          "execution_count": 69
        }
      ]
    },
    {
      "cell_type": "markdown",
      "source": [
        "#Shape y Reshape"
      ],
      "metadata": {
        "id": "cPvSiMLfs8dZ"
      }
    },
    {
      "cell_type": "code",
      "source": [
        "#Shape es la forma del arreglo, es decir el tipo de esctructura\n"
      ],
      "metadata": {
        "id": "--UAX8qtr6B7"
      },
      "execution_count": 70,
      "outputs": []
    }
  ]
}